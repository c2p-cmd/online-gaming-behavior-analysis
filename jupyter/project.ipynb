{
 "cells": [
  {
   "cell_type": "markdown",
   "metadata": {},
   "source": [
    "# Online Gaming Behavior ML Project\n",
    "\n",
    "Welcome to the Online Gaming Behavior Machine Learning Project! This project aims to analyze and predict player engagement levels in online gaming using various machine learning techniques. By leveraging a comprehensive dataset of player behaviors, we will explore key factors that influence engagement and build robust models to classify engagement levels.\n",
    "\n",
    "## Motivation:\n",
    "\n",
    "The gaming industry faces significant challenges in player retention and sustainable engagement. With development costs rising and competition intensifying, game publishers need insights to make strategic decisions. This project aims to help game publishers make better decisions in their game development strategy by identifying the key factors that drive player engagement. \n",
    "\n",
    "By understanding which elements most strongly correlate with high engagement, developers can design more compelling experiences, and maintain a healthy balance between monetization and player satisfaction. Our machine learning approach provides metrics that can guide feature prioritization and help maintain player loyalty.\n",
    "\n",
    "Throughout this notebook, we will perform data preprocessing, exploratory data analysis (EDA), feature engineering, and model training. We will also evaluate the performance of different machine learning models and fine-tune the best-performing model to achieve optimal results.\n",
    "\n",
    "Let's dive into the fascinating world of online gaming behavior and uncover valuable insights to enhance player engagement!"
   ]
  },
  {
   "cell_type": "markdown",
   "metadata": {},
   "source": [
    "The dataset comes from [kaggle](https://www.kaggle.com/datasets/rabieelkharoua/predict-online-gaming-behavior-dataset)"
   ]
  },
  {
   "cell_type": "code",
   "execution_count": 1,
   "metadata": {},
   "outputs": [
    {
     "data": {
      "text/html": [
       "        <script type=\"text/javascript\">\n",
       "        window.PlotlyConfig = {MathJaxConfig: 'local'};\n",
       "        if (window.MathJax && window.MathJax.Hub && window.MathJax.Hub.Config) {window.MathJax.Hub.Config({SVG: {font: \"STIX-Web\"}});}\n",
       "        </script>\n",
       "        <script type=\"module\">import \"https://cdn.plot.ly/plotly-3.0.0.min\"</script>\n",
       "        "
      ]
     },
     "metadata": {},
     "output_type": "display_data"
    }
   ],
   "source": [
    "import pandas as pd\n",
    "import plotly.express as px\n",
    "import plotly.graph_objects as go\n",
    "from plotly.subplots import make_subplots\n",
    "import plotly.io as pio\n",
    "from plotly.offline import init_notebook_mode\n",
    "\n",
    "init_notebook_mode(connected=True)\n",
    "pio.renderers.default = \"iframe_connected\""
   ]
  },
  {
   "cell_type": "markdown",
   "metadata": {},
   "source": [
    "## Exploratory Data Analysis EDA"
   ]
  },
  {
   "cell_type": "code",
   "execution_count": 2,
   "metadata": {},
   "outputs": [
    {
     "data": {
      "text/html": [
       "<div>\n",
       "<style scoped>\n",
       "    .dataframe tbody tr th:only-of-type {\n",
       "        vertical-align: middle;\n",
       "    }\n",
       "\n",
       "    .dataframe tbody tr th {\n",
       "        vertical-align: top;\n",
       "    }\n",
       "\n",
       "    .dataframe thead th {\n",
       "        text-align: right;\n",
       "    }\n",
       "</style>\n",
       "<table border=\"1\" class=\"dataframe\">\n",
       "  <thead>\n",
       "    <tr style=\"text-align: right;\">\n",
       "      <th></th>\n",
       "      <th>PlayerID</th>\n",
       "      <th>Age</th>\n",
       "      <th>Gender</th>\n",
       "      <th>Location</th>\n",
       "      <th>GameGenre</th>\n",
       "      <th>PlayTimeHours</th>\n",
       "      <th>InGamePurchases</th>\n",
       "      <th>GameDifficulty</th>\n",
       "      <th>SessionsPerWeek</th>\n",
       "      <th>AvgSessionDurationMinutes</th>\n",
       "      <th>PlayerLevel</th>\n",
       "      <th>AchievementsUnlocked</th>\n",
       "      <th>EngagementLevel</th>\n",
       "    </tr>\n",
       "  </thead>\n",
       "  <tbody>\n",
       "    <tr>\n",
       "      <th>0</th>\n",
       "      <td>9000</td>\n",
       "      <td>43</td>\n",
       "      <td>Male</td>\n",
       "      <td>Other</td>\n",
       "      <td>Strategy</td>\n",
       "      <td>16.271119</td>\n",
       "      <td>0</td>\n",
       "      <td>Medium</td>\n",
       "      <td>6</td>\n",
       "      <td>108</td>\n",
       "      <td>79</td>\n",
       "      <td>25</td>\n",
       "      <td>Medium</td>\n",
       "    </tr>\n",
       "    <tr>\n",
       "      <th>1</th>\n",
       "      <td>9001</td>\n",
       "      <td>29</td>\n",
       "      <td>Female</td>\n",
       "      <td>USA</td>\n",
       "      <td>Strategy</td>\n",
       "      <td>5.525961</td>\n",
       "      <td>0</td>\n",
       "      <td>Medium</td>\n",
       "      <td>5</td>\n",
       "      <td>144</td>\n",
       "      <td>11</td>\n",
       "      <td>10</td>\n",
       "      <td>Medium</td>\n",
       "    </tr>\n",
       "    <tr>\n",
       "      <th>2</th>\n",
       "      <td>9002</td>\n",
       "      <td>22</td>\n",
       "      <td>Female</td>\n",
       "      <td>USA</td>\n",
       "      <td>Sports</td>\n",
       "      <td>8.223755</td>\n",
       "      <td>0</td>\n",
       "      <td>Easy</td>\n",
       "      <td>16</td>\n",
       "      <td>142</td>\n",
       "      <td>35</td>\n",
       "      <td>41</td>\n",
       "      <td>High</td>\n",
       "    </tr>\n",
       "    <tr>\n",
       "      <th>3</th>\n",
       "      <td>9003</td>\n",
       "      <td>35</td>\n",
       "      <td>Male</td>\n",
       "      <td>USA</td>\n",
       "      <td>Action</td>\n",
       "      <td>5.265351</td>\n",
       "      <td>1</td>\n",
       "      <td>Easy</td>\n",
       "      <td>9</td>\n",
       "      <td>85</td>\n",
       "      <td>57</td>\n",
       "      <td>47</td>\n",
       "      <td>Medium</td>\n",
       "    </tr>\n",
       "    <tr>\n",
       "      <th>4</th>\n",
       "      <td>9004</td>\n",
       "      <td>33</td>\n",
       "      <td>Male</td>\n",
       "      <td>Europe</td>\n",
       "      <td>Action</td>\n",
       "      <td>15.531945</td>\n",
       "      <td>0</td>\n",
       "      <td>Medium</td>\n",
       "      <td>2</td>\n",
       "      <td>131</td>\n",
       "      <td>95</td>\n",
       "      <td>37</td>\n",
       "      <td>Medium</td>\n",
       "    </tr>\n",
       "  </tbody>\n",
       "</table>\n",
       "</div>"
      ],
      "text/plain": [
       "   PlayerID  Age  Gender Location GameGenre  PlayTimeHours  InGamePurchases  \\\n",
       "0      9000   43    Male    Other  Strategy      16.271119                0   \n",
       "1      9001   29  Female      USA  Strategy       5.525961                0   \n",
       "2      9002   22  Female      USA    Sports       8.223755                0   \n",
       "3      9003   35    Male      USA    Action       5.265351                1   \n",
       "4      9004   33    Male   Europe    Action      15.531945                0   \n",
       "\n",
       "  GameDifficulty  SessionsPerWeek  AvgSessionDurationMinutes  PlayerLevel  \\\n",
       "0         Medium                6                        108           79   \n",
       "1         Medium                5                        144           11   \n",
       "2           Easy               16                        142           35   \n",
       "3           Easy                9                         85           57   \n",
       "4         Medium                2                        131           95   \n",
       "\n",
       "   AchievementsUnlocked EngagementLevel  \n",
       "0                    25          Medium  \n",
       "1                    10          Medium  \n",
       "2                    41            High  \n",
       "3                    47          Medium  \n",
       "4                    37          Medium  "
      ]
     },
     "execution_count": 2,
     "metadata": {},
     "output_type": "execute_result"
    }
   ],
   "source": [
    "df = pd.read_csv(\"../data/online_gaming_behavior_dataset.csv\")\n",
    "df.head()"
   ]
  },
  {
   "cell_type": "code",
   "execution_count": 3,
   "metadata": {},
   "outputs": [
    {
     "name": "stdout",
     "output_type": "stream",
     "text": [
      "<class 'pandas.core.frame.DataFrame'>\n",
      "RangeIndex: 40034 entries, 0 to 40033\n",
      "Data columns (total 13 columns):\n",
      " #   Column                     Non-Null Count  Dtype  \n",
      "---  ------                     --------------  -----  \n",
      " 0   PlayerID                   40034 non-null  int64  \n",
      " 1   Age                        40034 non-null  int64  \n",
      " 2   Gender                     40034 non-null  object \n",
      " 3   Location                   40034 non-null  object \n",
      " 4   GameGenre                  40034 non-null  object \n",
      " 5   PlayTimeHours              40034 non-null  float64\n",
      " 6   InGamePurchases            40034 non-null  int64  \n",
      " 7   GameDifficulty             40034 non-null  object \n",
      " 8   SessionsPerWeek            40034 non-null  int64  \n",
      " 9   AvgSessionDurationMinutes  40034 non-null  int64  \n",
      " 10  PlayerLevel                40034 non-null  int64  \n",
      " 11  AchievementsUnlocked       40034 non-null  int64  \n",
      " 12  EngagementLevel            40034 non-null  object \n",
      "dtypes: float64(1), int64(7), object(5)\n",
      "memory usage: 4.0+ MB\n"
     ]
    }
   ],
   "source": [
    "df.info()"
   ]
  },
  {
   "cell_type": "code",
   "execution_count": 4,
   "metadata": {},
   "outputs": [
    {
     "data": {
      "text/plain": [
       "PlayerID                       int64\n",
       "Age                            int64\n",
       "Gender                        object\n",
       "Location                      object\n",
       "GameGenre                     object\n",
       "PlayTimeHours                float64\n",
       "InGamePurchases                int64\n",
       "GameDifficulty                object\n",
       "SessionsPerWeek                int64\n",
       "AvgSessionDurationMinutes      int64\n",
       "PlayerLevel                    int64\n",
       "AchievementsUnlocked           int64\n",
       "EngagementLevel               object\n",
       "dtype: object"
      ]
     },
     "execution_count": 4,
     "metadata": {},
     "output_type": "execute_result"
    }
   ],
   "source": [
    "df.dtypes"
   ]
  },
  {
   "cell_type": "code",
   "execution_count": 5,
   "metadata": {},
   "outputs": [
    {
     "data": {
      "text/plain": [
       "PlayerID                     0\n",
       "Age                          0\n",
       "Gender                       0\n",
       "Location                     0\n",
       "GameGenre                    0\n",
       "PlayTimeHours                0\n",
       "InGamePurchases              0\n",
       "GameDifficulty               0\n",
       "SessionsPerWeek              0\n",
       "AvgSessionDurationMinutes    0\n",
       "PlayerLevel                  0\n",
       "AchievementsUnlocked         0\n",
       "EngagementLevel              0\n",
       "dtype: int64"
      ]
     },
     "execution_count": 5,
     "metadata": {},
     "output_type": "execute_result"
    }
   ],
   "source": [
    "df.isnull().sum()"
   ]
  },
  {
   "cell_type": "markdown",
   "metadata": {},
   "source": [
    "**We can observe that are not any null values so we can do our analysis**\n",
    "\n",
    "I am dropping the player id since we will not be using it"
   ]
  },
  {
   "cell_type": "code",
   "execution_count": 6,
   "metadata": {},
   "outputs": [],
   "source": [
    "df.drop(columns=['PlayerID'], inplace=True)"
   ]
  },
  {
   "cell_type": "markdown",
   "metadata": {},
   "source": [
    "I will be splitting the age into 4 categories:\n",
    "- 10-19\n",
    "- 20-29\n",
    "- 30-39\n",
    "- 40-49\n",
    "\n",
    "This will be easier to visualize"
   ]
  },
  {
   "cell_type": "code",
   "execution_count": 7,
   "metadata": {},
   "outputs": [
    {
     "data": {
      "text/html": [
       "<iframe\n",
       "    scrolling=\"no\"\n",
       "    width=\"100%\"\n",
       "    height=\"545px\"\n",
       "    src=\"iframe_figures/figure_7.html\"\n",
       "    frameborder=\"0\"\n",
       "    allowfullscreen\n",
       "></iframe>\n"
      ]
     },
     "metadata": {},
     "output_type": "display_data"
    }
   ],
   "source": [
    "# Create age bins for more meaningful visualization\n",
    "age_bins = [10, 20, 30, 40, 50]\n",
    "age_labels = [\n",
    "    '10-19',\n",
    "    '20-29',\n",
    "    '30-39',\n",
    "    '40-49',\n",
    "]\n",
    "\n",
    "df['AgeBin'] = pd.cut(df['Age'], bins=age_bins, labels=age_labels, right=False)\n",
    "\n",
    "# Create binned age distribution\n",
    "age_counts = df['AgeBin'].value_counts().sort_index().reset_index()\n",
    "age_counts.columns = ['Age Group', 'Count']\n",
    "age_counts['Percentage'] = round(age_counts['Count'] / age_counts['Count'].sum() * 100, 2)\n",
    "\n",
    "fig = px.bar(\n",
    "    age_counts,\n",
    "    x='Age Group',\n",
    "    y='Count',\n",
    "    title=\"Age Distribution\",\n",
    "    text='Percentage',\n",
    "    color='Age Group',\n",
    ")\n",
    "\n",
    "fig.update_traces(texttemplate='%{text}%', textposition='outside')\n",
    "fig.update_layout(\n",
    "    xaxis_title=\"Age Group\",\n",
    "    yaxis_title=\"Count\",\n",
    "    xaxis={'categoryorder':'array', 'categoryarray':age_labels}\n",
    ")\n",
    "\n",
    "fig.show()"
   ]
  },
  {
   "cell_type": "markdown",
   "metadata": {},
   "source": [
    "**Observation:** The age distribution is fairly balanced across all age groups, with the majority of players falling into the 20-49 age range."
   ]
  },
  {
   "cell_type": "code",
   "execution_count": 8,
   "metadata": {},
   "outputs": [
    {
     "data": {
      "text/html": [
       "<iframe\n",
       "    scrolling=\"no\"\n",
       "    width=\"100%\"\n",
       "    height=\"545px\"\n",
       "    src=\"iframe_figures/figure_8.html\"\n",
       "    frameborder=\"0\"\n",
       "    allowfullscreen\n",
       "></iframe>\n"
      ]
     },
     "metadata": {},
     "output_type": "display_data"
    }
   ],
   "source": [
    "age_gender_dist = (\n",
    "    df.groupby([\"Gender\", \"AgeBin\"], observed=False)[\"Gender\"]\n",
    "    .size()\n",
    "    .reset_index(name=\"Count\")\n",
    ")\n",
    "age_gender_dist[\"Percent\"] = 0.0\n",
    "\n",
    "male_mask = age_gender_dist[\"Gender\"] == \"Male\"\n",
    "female_mask = age_gender_dist[\"Gender\"] == \"Female\"\n",
    "\n",
    "male_total = age_gender_dist.loc[male_mask, \"Count\"].sum()\n",
    "age_gender_dist.loc[male_mask, \"Percent\"] = round(\n",
    "    age_gender_dist.loc[male_mask, \"Count\"] / male_total * 100, 2\n",
    ")\n",
    "\n",
    "female_total = age_gender_dist.loc[female_mask, \"Count\"].sum()\n",
    "age_gender_dist.loc[female_mask, \"Percent\"] = round(\n",
    "    age_gender_dist.loc[female_mask, \"Count\"] / female_total * 100, 2\n",
    ")\n",
    "\n",
    "fig = px.bar(\n",
    "    age_gender_dist,\n",
    "    x=\"AgeBin\",\n",
    "    y=\"Count\",\n",
    "    color=\"Gender\",\n",
    "    title=\"Age Distribution By Gender\",\n",
    "    barmode=\"group\",\n",
    "    text=\"Percent\",\n",
    ")\n",
    "\n",
    "fig.update_traces(\n",
    "    texttemplate=\"%{text:.1f}%\",\n",
    "    textposition=\"outside\",\n",
    ")\n",
    "\n",
    "fig.update_xaxes(title=\"Age\")\n",
    "fig.update_yaxes(title=\"Count\")\n",
    "\n",
    "fig.show()"
   ]
  },
  {
   "cell_type": "markdown",
   "metadata": {},
   "source": [
    "**Observation**:\n",
    "- In each age group except `10-19` there is a big gap between male and female players\n",
    "- Maybe in young age women play more games?"
   ]
  },
  {
   "cell_type": "code",
   "execution_count": 9,
   "metadata": {},
   "outputs": [
    {
     "data": {
      "text/plain": [
       "count    40034.000000\n",
       "mean        31.992531\n",
       "std         10.043227\n",
       "min         15.000000\n",
       "25%         23.000000\n",
       "50%         32.000000\n",
       "75%         41.000000\n",
       "max         49.000000\n",
       "Name: Age, dtype: float64"
      ]
     },
     "execution_count": 9,
     "metadata": {},
     "output_type": "execute_result"
    }
   ],
   "source": [
    "df['Age'].describe()"
   ]
  },
  {
   "cell_type": "code",
   "execution_count": 10,
   "metadata": {},
   "outputs": [
    {
     "data": {
      "text/html": [
       "<iframe\n",
       "    scrolling=\"no\"\n",
       "    width=\"100%\"\n",
       "    height=\"545px\"\n",
       "    src=\"iframe_figures/figure_10.html\"\n",
       "    frameborder=\"0\"\n",
       "    allowfullscreen\n",
       "></iframe>\n"
      ]
     },
     "metadata": {},
     "output_type": "display_data"
    }
   ],
   "source": [
    "location_dist = df.Location.value_counts()\n",
    "\n",
    "# color according to the location\n",
    "fig = px.pie(\n",
    "    location_dist,\n",
    "    names=location_dist.index,\n",
    "    values=location_dist.values,\n",
    "    title=\"Location Distribution\",\n",
    "    color=location_dist.index,\n",
    ")\n",
    "fig.show()"
   ]
  },
  {
   "cell_type": "markdown",
   "metadata": {},
   "source": [
    "**Observation**: Maximum players are from USA & Europe while there is 30% coming from Asian and other growing markets"
   ]
  },
  {
   "cell_type": "code",
   "execution_count": 11,
   "metadata": {},
   "outputs": [
    {
     "data": {
      "text/html": [
       "<iframe\n",
       "    scrolling=\"no\"\n",
       "    width=\"100%\"\n",
       "    height=\"545px\"\n",
       "    src=\"iframe_figures/figure_11.html\"\n",
       "    frameborder=\"0\"\n",
       "    allowfullscreen\n",
       "></iframe>\n"
      ]
     },
     "metadata": {},
     "output_type": "display_data"
    }
   ],
   "source": [
    "location_age_dist = df.groupby(['Location', 'AgeBin'], observed=True)['Location'].count().reset_index(name='Count')\n",
    "\n",
    "# calculating percentage\n",
    "location_age_dist['Percentage'] = 0.0\n",
    "\n",
    "for location in location_age_dist['Location'].unique():\n",
    "    mask = location_age_dist['Location'] == location\n",
    "    total = location_age_dist.loc[mask, 'Count'].sum()\n",
    "    location_age_dist.loc[mask, 'Percentage'] = round(location_age_dist.loc[mask, 'Count'] / total * 100, 2)\n",
    "\n",
    "fig = px.bar(\n",
    "    location_age_dist,\n",
    "    x='AgeBin',\n",
    "    y='Count',\n",
    "    color='Location',\n",
    "    title=\"Age Group Distribution By Location\",\n",
    "    barmode=\"group\",\n",
    "    text='Percentage'\n",
    ")\n",
    "\n",
    "fig.update_traces(\n",
    "    texttemplate='%{text:.1f}%',\n",
    "    textposition='outside'\n",
    ")\n",
    "\n",
    "fig.update_xaxes(title=\"AgeBin\")\n",
    "fig.update_yaxes(title=\"Count\")\n",
    "\n",
    "fig.show()"
   ]
  },
  {
   "cell_type": "markdown",
   "metadata": {},
   "source": [
    "**Observation**:\n",
    "- Maximum players come from USA and fit in the 20-49 range\n",
    "- The gap between players in `10-19` age range is less than other ages"
   ]
  },
  {
   "cell_type": "code",
   "execution_count": 12,
   "metadata": {},
   "outputs": [
    {
     "data": {
      "text/html": [
       "<iframe\n",
       "    scrolling=\"no\"\n",
       "    width=\"100%\"\n",
       "    height=\"545px\"\n",
       "    src=\"iframe_figures/figure_12.html\"\n",
       "    frameborder=\"0\"\n",
       "    allowfullscreen\n",
       "></iframe>\n"
      ]
     },
     "metadata": {},
     "output_type": "display_data"
    }
   ],
   "source": [
    "df['DidPurchase'] = df['InGamePurchases'].map({1: 'Yes', 0: 'No'})\n",
    "purchase_dist = df.groupby(['Gender', 'DidPurchase'])['DidPurchase'].count().reset_index(name='Count')\n",
    "purchase_dist['Percentage'] = 0.0\n",
    "\n",
    "for i in purchase_dist['DidPurchase'].unique():\n",
    "    mask = purchase_dist['DidPurchase'] == i\n",
    "    total = purchase_dist.loc[mask, 'Count'].sum()\n",
    "    purchase_dist.loc[mask, 'Percentage'] = round(purchase_dist.loc[mask, 'Count'] / total * 100, 2)\n",
    "\n",
    "fig = px.bar(\n",
    "    purchase_dist,\n",
    "    x='Gender',\n",
    "    y='Count',\n",
    "    color='DidPurchase',\n",
    "    title=\"Purchase Distribution By Gender\",\n",
    "    barmode=\"group\",\n",
    "    text='Percentage'\n",
    ")\n",
    "\n",
    "fig.update_traces(\n",
    "    texttemplate='%{text:.1f}%',\n",
    "    textposition='outside'\n",
    ")\n",
    "\n",
    "fig.show()"
   ]
  },
  {
   "cell_type": "markdown",
   "metadata": {},
   "source": [
    "**Observation**:\n",
    "- Since more males are gaming their purchase decision is also reflective of that\n",
    "- But generally they don't like paying in the game"
   ]
  },
  {
   "cell_type": "markdown",
   "metadata": {},
   "source": [
    "For the 'PlayTimeHours' I will again bin them into groups\n",
    "- 0-4\n",
    "- 5-9\n",
    "- 10-14\n",
    "- 15-19\n",
    "- 20-24\n",
    "\n",
    "This will help us understand the distribution better"
   ]
  },
  {
   "cell_type": "code",
   "execution_count": 13,
   "metadata": {},
   "outputs": [
    {
     "data": {
      "text/plain": [
       "count    40034.000000\n",
       "mean        12.024365\n",
       "std          6.914638\n",
       "min          0.000115\n",
       "25%          6.067501\n",
       "50%         12.008002\n",
       "75%         17.963831\n",
       "max         23.999592\n",
       "Name: PlayTimeHours, dtype: float64"
      ]
     },
     "execution_count": 13,
     "metadata": {},
     "output_type": "execute_result"
    }
   ],
   "source": [
    "df.PlayTimeHours.describe()"
   ]
  },
  {
   "cell_type": "code",
   "execution_count": 14,
   "metadata": {},
   "outputs": [
    {
     "data": {
      "text/html": [
       "<iframe\n",
       "    scrolling=\"no\"\n",
       "    width=\"100%\"\n",
       "    height=\"545px\"\n",
       "    src=\"iframe_figures/figure_14.html\"\n",
       "    frameborder=\"0\"\n",
       "    allowfullscreen\n",
       "></iframe>\n"
      ]
     },
     "metadata": {},
     "output_type": "display_data"
    }
   ],
   "source": [
    "# Create playtime bins\n",
    "playtime_bins = [0, 5, 10, 15, 20, 25]\n",
    "playtime_labels = [\"0-4\", \"5-9\", \"10-14\", \"15-19\", \"20-24\"]\n",
    "\n",
    "copy_df = df.copy()\n",
    "copy_df[\"PlayTimeBin\"] = pd.cut(\n",
    "    copy_df[\"PlayTimeHours\"], bins=playtime_bins, labels=playtime_labels, right=False\n",
    ")\n",
    "\n",
    "playtime_counts = copy_df[\"PlayTimeBin\"].value_counts().reset_index()\n",
    "playtime_counts.columns = [\"PlayTimeBin\", \"Count\"]\n",
    "playtime_counts[\"Percentage\"] = round(\n",
    "    playtime_counts[\"Count\"] / playtime_counts[\"Count\"].sum() * 100, 2\n",
    ")\n",
    "\n",
    "playtime_counts[\"PlayTimeBin\"] = pd.Categorical(\n",
    "    playtime_counts[\"PlayTimeBin\"], categories=playtime_labels, ordered=True\n",
    ")\n",
    "playtime_counts = playtime_counts.sort_values(\"PlayTimeBin\")\n",
    "\n",
    "fig = px.bar(\n",
    "    playtime_counts,\n",
    "    x=\"PlayTimeBin\",\n",
    "    y=\"Count\",\n",
    "    title=\"Play Time Distribution\",\n",
    "    color=\"PlayTimeBin\",\n",
    "    text=\"Percentage\",\n",
    ")\n",
    "\n",
    "fig.update_traces(texttemplate=\"%{text}%\", textposition=\"outside\")\n",
    "\n",
    "fig.update_layout(\n",
    "    xaxis_title=\"Play Time (Hours)\",\n",
    "    yaxis_title=\"Count\",\n",
    "    xaxis={\"categoryorder\": \"array\", \"categoryarray\": playtime_labels},\n",
    ")\n",
    "\n",
    "fig.show()"
   ]
  },
  {
   "cell_type": "markdown",
   "metadata": {},
   "source": [
    "**Observation**:\n",
    "- Maximum gamers like a small gaming session of around `5-9` hours"
   ]
  },
  {
   "cell_type": "code",
   "execution_count": 15,
   "metadata": {},
   "outputs": [
    {
     "data": {
      "text/html": [
       "<iframe\n",
       "    scrolling=\"no\"\n",
       "    width=\"100%\"\n",
       "    height=\"545px\"\n",
       "    src=\"iframe_figures/figure_15.html\"\n",
       "    frameborder=\"0\"\n",
       "    allowfullscreen\n",
       "></iframe>\n"
      ]
     },
     "metadata": {},
     "output_type": "display_data"
    }
   ],
   "source": [
    "playtime_gender = df.groupby(\"Gender\")[\"PlayTimeHours\"]\n",
    "\n",
    "playtime_gender_mean = playtime_gender.mean().reset_index(name=\"Avg Play Time\")\n",
    "\n",
    "fig = px.bar(\n",
    "    playtime_gender_mean,\n",
    "    x='Gender',\n",
    "    y='Avg Play Time',\n",
    "    title=\"Average Play Time By Gender\",\n",
    "    color='Gender',\n",
    "    text='Avg Play Time'\n",
    ")\n",
    "\n",
    "fig.update_traces(\n",
    "    texttemplate='%{text:.2f} hours',\n",
    "    textposition='outside'\n",
    ")\n",
    "\n",
    "fig.show()"
   ]
  },
  {
   "cell_type": "markdown",
   "metadata": {},
   "source": [
    "**Observation**: Both genders are playing aprrox 12 hours"
   ]
  },
  {
   "cell_type": "code",
   "execution_count": 16,
   "metadata": {},
   "outputs": [
    {
     "data": {
      "text/html": [
       "<iframe\n",
       "    scrolling=\"no\"\n",
       "    width=\"100%\"\n",
       "    height=\"545px\"\n",
       "    src=\"iframe_figures/figure_16.html\"\n",
       "    frameborder=\"0\"\n",
       "    allowfullscreen\n",
       "></iframe>\n"
      ]
     },
     "metadata": {},
     "output_type": "display_data"
    }
   ],
   "source": [
    "playtime_gender = (\n",
    "    df.groupby(\"Gender\")[\n",
    "        [\"PlayTimeHours\", \"AvgSessionDurationMinutes\", \"SessionsPerWeek\"]\n",
    "    ]\n",
    "    .mean()\n",
    "    .reset_index()\n",
    ")\n",
    "\n",
    "fig = make_subplots(\n",
    "    rows=1,\n",
    "    cols=3,\n",
    "    subplot_titles=[\n",
    "        \"Average Play Time\",\n",
    "        \"Average Session Duration\",\n",
    "        \"Average Sessions Per Week\",\n",
    "    ],\n",
    ")\n",
    "\n",
    "fig.add_trace(\n",
    "    go.Bar(x=playtime_gender.Gender, y=playtime_gender.PlayTimeHours, name=\"Play Time\"),\n",
    "    row=1,\n",
    "    col=1,\n",
    ")\n",
    "\n",
    "fig.add_trace(\n",
    "    go.Bar(\n",
    "        x=playtime_gender.Gender,\n",
    "        y=playtime_gender.AvgSessionDurationMinutes,\n",
    "        name=\"Session Duration\",\n",
    "    ),\n",
    "    row=1,\n",
    "    col=2,\n",
    ")\n",
    "\n",
    "fig.add_trace(\n",
    "    go.Bar(\n",
    "        x=playtime_gender.Gender,\n",
    "        y=playtime_gender.SessionsPerWeek,\n",
    "        name=\"Sessions Per Week\",\n",
    "    ),\n",
    "    row=1,\n",
    "    col=3,\n",
    ")\n",
    "\n",
    "fig.show()"
   ]
  },
  {
   "cell_type": "markdown",
   "metadata": {},
   "source": [
    "**Observation**: Females tend to play more frequently but male play for longer time"
   ]
  },
  {
   "cell_type": "code",
   "execution_count": 17,
   "metadata": {},
   "outputs": [
    {
     "data": {
      "text/html": [
       "<iframe\n",
       "    scrolling=\"no\"\n",
       "    width=\"100%\"\n",
       "    height=\"545px\"\n",
       "    src=\"iframe_figures/figure_17.html\"\n",
       "    frameborder=\"0\"\n",
       "    allowfullscreen\n",
       "></iframe>\n"
      ]
     },
     "metadata": {},
     "output_type": "display_data"
    }
   ],
   "source": [
    "playtime_genre = df.groupby(\"GameGenre\")[\"PlayTimeHours\"].mean().reset_index(name=\"Avg Play Time\")\n",
    "\n",
    "fig = px.bar_polar(\n",
    "    playtime_genre,\n",
    "    theta='GameGenre',\n",
    "    r='Avg Play Time',\n",
    "    title=\"Average Play Time By Genre\",\n",
    "    color='GameGenre',\n",
    ")\n",
    "\n",
    "fig.show()"
   ]
  },
  {
   "cell_type": "markdown",
   "metadata": {},
   "source": [
    "**Observation**: The playtime is largely evenly distributed regardless of the game genre"
   ]
  },
  {
   "cell_type": "code",
   "execution_count": 18,
   "metadata": {},
   "outputs": [
    {
     "data": {
      "text/html": [
       "<iframe\n",
       "    scrolling=\"no\"\n",
       "    width=\"100%\"\n",
       "    height=\"545px\"\n",
       "    src=\"iframe_figures/figure_18.html\"\n",
       "    frameborder=\"0\"\n",
       "    allowfullscreen\n",
       "></iframe>\n"
      ]
     },
     "metadata": {},
     "output_type": "display_data"
    }
   ],
   "source": [
    "playtime_genre = (\n",
    "    df.groupby(\"GameGenre\")[\n",
    "        [\"PlayTimeHours\", \"AvgSessionDurationMinutes\", \"SessionsPerWeek\"]\n",
    "    ]\n",
    "    .mean()\n",
    "    .reset_index()\n",
    ")\n",
    "\n",
    "fig = make_subplots(\n",
    "    rows=1,\n",
    "    cols=3,\n",
    "    subplot_titles=[\n",
    "        \"Average Play Time\",\n",
    "        \"Average Session Duration\",\n",
    "        \"Average Sessions Per Week\",\n",
    "    ],\n",
    ")\n",
    "\n",
    "fig.add_trace(\n",
    "    go.Bar(\n",
    "        x=playtime_genre.GameGenre,\n",
    "        y=playtime_genre.PlayTimeHours,\n",
    "        name=\"Play Time\",\n",
    "    ),\n",
    "    row=1,\n",
    "    col=1,\n",
    ")\n",
    "\n",
    "fig.add_trace(\n",
    "    go.Bar(\n",
    "        x=playtime_genre.GameGenre,\n",
    "        y=playtime_genre.AvgSessionDurationMinutes,\n",
    "        name=\"Session Duration\",\n",
    "    ),\n",
    "    row=1,\n",
    "    col=2,\n",
    ")\n",
    "\n",
    "fig.add_trace(\n",
    "    go.Bar(\n",
    "        x=playtime_genre.GameGenre,\n",
    "        y=playtime_genre.SessionsPerWeek,\n",
    "        name=\"Sessions Per Week\",\n",
    "    ),\n",
    "    row=1,\n",
    "    col=3,\n",
    ")\n",
    "\n",
    "fig.show()"
   ]
  },
  {
   "cell_type": "markdown",
   "metadata": {},
   "source": [
    "**Observation**:\n",
    "- RPG has the minimum Session Duration\n",
    "- Strategy has maximum Session Duration as well as session count because we need play more hours in 1 session\n",
    "- Action has maximum avg play time"
   ]
  },
  {
   "cell_type": "code",
   "execution_count": 19,
   "metadata": {},
   "outputs": [
    {
     "data": {
      "text/html": [
       "<iframe\n",
       "    scrolling=\"no\"\n",
       "    width=\"100%\"\n",
       "    height=\"545px\"\n",
       "    src=\"iframe_figures/figure_19.html\"\n",
       "    frameborder=\"0\"\n",
       "    allowfullscreen\n",
       "></iframe>\n"
      ]
     },
     "metadata": {},
     "output_type": "display_data"
    }
   ],
   "source": [
    "copy_df = df.copy()\n",
    "copy_df['PlayerLevelBin'] = pd.cut(copy_df['PlayerLevel'], bins=5, labels=['1-20', '21-40', '41-60', '61-80', '81-100'])\n",
    "mean_player_level = copy_df['PlayerLevel'].mean()\n",
    "\n",
    "player_level_dist = copy_df['PlayerLevelBin'].value_counts().reset_index()\n",
    "player_level_dist.columns = ['Player Level', 'Count']\n",
    "player_level_dist['Percentage'] = round(player_level_dist['Count'] / player_level_dist['Count'].sum() * 100, 2)\n",
    "\n",
    "# sort the player level\n",
    "player_level_dist['Player Level'] = pd.Categorical(player_level_dist['Player Level'], categories=['1-20', '21-40', '41-60', '61-80', '81-100'], ordered=True)\n",
    "player_level_dist = player_level_dist.sort_values('Player Level')\n",
    "\n",
    "fig = px.bar(\n",
    "    player_level_dist,\n",
    "    x='Player Level',\n",
    "    y='Count',\n",
    "    title=\"Player Level Distribution\",\n",
    "    text='Percentage',\n",
    "    color='Player Level'\n",
    ")\n",
    "\n",
    "fig.update_traces(\n",
    "    texttemplate='%{text}%',\n",
    "    textposition='outside'\n",
    ")\n",
    "\n",
    "fig.show()"
   ]
  },
  {
   "cell_type": "markdown",
   "metadata": {},
   "source": [
    "**Observation**:\n",
    "- Maximum players are the new players since `1-20` have **20.72%** of the players\n",
    "- But also there are many high level players too"
   ]
  },
  {
   "cell_type": "code",
   "execution_count": 20,
   "metadata": {},
   "outputs": [
    {
     "data": {
      "text/html": [
       "<iframe\n",
       "    scrolling=\"no\"\n",
       "    width=\"100%\"\n",
       "    height=\"545px\"\n",
       "    src=\"iframe_figures/figure_20.html\"\n",
       "    frameborder=\"0\"\n",
       "    allowfullscreen\n",
       "></iframe>\n"
      ]
     },
     "metadata": {},
     "output_type": "display_data"
    }
   ],
   "source": [
    "playerlevel_location = (\n",
    "    df.groupby(\"Location\")[\"PlayerLevel\"].mean().reset_index(name=\"Avg Player Level\")\n",
    ")\n",
    "playerlevel_gender = (\n",
    "    df.groupby(\"Gender\")[\"PlayerLevel\"].mean().reset_index(name=\"Avg Player Level\")\n",
    ")\n",
    "\n",
    "fig = make_subplots(\n",
    "    rows=1,\n",
    "    cols=2,\n",
    "    subplot_titles=[\n",
    "        \"Average Player Level By Location\",\n",
    "        \"Average Player Level By Gender\",\n",
    "    ],\n",
    ")\n",
    "\n",
    "fig.add_trace(\n",
    "    go.Bar(\n",
    "        x=playerlevel_location.Location,\n",
    "        y=playerlevel_location[\"Avg Player Level\"],\n",
    "        name=\"Player Level By Location\",\n",
    "    ),\n",
    "    row=1,\n",
    "    col=1,\n",
    ")\n",
    "\n",
    "for i in range(len(playerlevel_location)):\n",
    "    fig.add_annotation(\n",
    "        x=playerlevel_location.Location[i],\n",
    "        y=playerlevel_location[\"Avg Player Level\"][i],\n",
    "        text=f\"{playerlevel_location['Avg Player Level'][i]:.1f}\",\n",
    "        yshift=10,\n",
    "        showarrow=False,\n",
    "    )\n",
    "\n",
    "fig.add_trace(\n",
    "    go.Bar(\n",
    "        x=playerlevel_gender.Gender,\n",
    "        y=playerlevel_gender[\"Avg Player Level\"],\n",
    "        name=\"Player Level By Gender\",\n",
    "    ),\n",
    "    row=1,\n",
    "    col=2,\n",
    ")\n",
    "\n",
    "for i in range(len(playerlevel_gender)):\n",
    "    fig.add_annotation(\n",
    "        x=playerlevel_gender.Gender[i],\n",
    "        y=playerlevel_gender[\"Avg Player Level\"][i],\n",
    "        text=f'{playerlevel_gender[\"Avg Player Level\"][i]:.1f}',\n",
    "        yshift=10,\n",
    "        showarrow=False,\n",
    "        row=1,\n",
    "        col=2\n",
    "    )\n",
    "\n",
    "fig.show()"
   ]
  },
  {
   "cell_type": "markdown",
   "metadata": {},
   "source": [
    "**Observation**:\n",
    "- Avg player level is balanced across the locations and genders"
   ]
  },
  {
   "cell_type": "code",
   "execution_count": 21,
   "metadata": {},
   "outputs": [
    {
     "data": {
      "text/html": [
       "<iframe\n",
       "    scrolling=\"no\"\n",
       "    width=\"100%\"\n",
       "    height=\"545px\"\n",
       "    src=\"iframe_figures/figure_21.html\"\n",
       "    frameborder=\"0\"\n",
       "    allowfullscreen\n",
       "></iframe>\n"
      ]
     },
     "metadata": {},
     "output_type": "display_data"
    }
   ],
   "source": [
    "# does higher player level mean more play time?\n",
    "playerlevel_playtime = (\n",
    "    df.groupby(\"PlayerLevel\")[\"PlayTimeHours\"].mean().reset_index(name=\"Avg Play Time\")\n",
    ")\n",
    "playerlevel_sessionduration = (\n",
    "    df.groupby(\"PlayerLevel\")[\"AvgSessionDurationMinutes\"]\n",
    "    .mean()\n",
    "    .reset_index(name=\"Avg Session Duration\")\n",
    ")\n",
    "playerlevel_sessionsperweek = (\n",
    "    df.groupby(\"PlayerLevel\")[\"SessionsPerWeek\"]\n",
    "    .mean()\n",
    "    .reset_index(name=\"Avg Sessions Per Week\")\n",
    ")\n",
    "\n",
    "fig = make_subplots(\n",
    "    rows=3,\n",
    "    cols=1,\n",
    "    subplot_titles=[\n",
    "        \"Player Level vs Avg Play Time\",\n",
    "        \"Player Level vs Avg Session Duration\",\n",
    "        \"Player Level vs Avg Sessions Per Week\",\n",
    "    ],\n",
    ")\n",
    "\n",
    "fig.add_trace(\n",
    "    go.Scatter(\n",
    "        x=playerlevel_playtime[\"PlayerLevel\"],\n",
    "        y=playerlevel_playtime[\"Avg Play Time\"],\n",
    "        mode=\"markers\",\n",
    "        name=\"Avg Play Time\",\n",
    "    ),\n",
    "    row=1,\n",
    "    col=1,\n",
    ")\n",
    "\n",
    "fig.add_trace(\n",
    "    go.Scatter(\n",
    "        x=playerlevel_sessionduration[\"PlayerLevel\"],\n",
    "        y=playerlevel_sessionduration[\"Avg Session Duration\"],\n",
    "        mode=\"markers\",\n",
    "        name=\"Avg Session Duration\",\n",
    "    ),\n",
    "    row=2,\n",
    "    col=1,\n",
    ")\n",
    "\n",
    "fig.add_trace(\n",
    "    go.Scatter(\n",
    "        x=playerlevel_sessionsperweek[\"PlayerLevel\"],\n",
    "        y=playerlevel_sessionsperweek[\"Avg Sessions Per Week\"],\n",
    "        mode=\"markers\",\n",
    "        name=\"Avg Sessions Per Week\",\n",
    "    ),\n",
    "    row=3,\n",
    "    col=1,\n",
    ")\n",
    "\n",
    "# Adding trendlines\n",
    "fig.add_trace(\n",
    "    go.Scatter(\n",
    "        x=playerlevel_playtime[\"PlayerLevel\"],\n",
    "        y=playerlevel_playtime[\"Avg Play Time\"].rolling(window=5).mean(),\n",
    "        mode=\"lines\",\n",
    "        name=\"Trendline Avg Play Time\",\n",
    "    ),\n",
    "    row=1,\n",
    "    col=1,\n",
    ")\n",
    "\n",
    "fig.add_trace(\n",
    "    go.Scatter(\n",
    "        x=playerlevel_sessionduration[\"PlayerLevel\"],\n",
    "        y=playerlevel_sessionduration[\"Avg Session Duration\"].rolling(window=5).mean(),\n",
    "        mode=\"lines\",\n",
    "        name=\"Trendline Avg Session Duration\",\n",
    "    ),\n",
    "    row=2,\n",
    "    col=1,\n",
    ")\n",
    "\n",
    "fig.add_trace(\n",
    "    go.Scatter(\n",
    "        x=playerlevel_sessionsperweek[\"PlayerLevel\"],\n",
    "        y=playerlevel_sessionsperweek[\"Avg Sessions Per Week\"].rolling(window=5).mean(),\n",
    "        mode=\"lines\",\n",
    "        name=\"Trendline Avg Sessions Per Week\",\n",
    "    ),\n",
    "    row=3,\n",
    "    col=1,\n",
    ")\n",
    "\n",
    "fig.update_xaxes(title_text=\"Player Level\", row=3, col=1)\n",
    "\n",
    "fig.update_yaxes(title_text=\"Avg Play Time\", row=1, col=1)\n",
    "fig.update_yaxes(title_text=\"Avg Session Duration\", row=2, col=2)\n",
    "fig.update_yaxes(title_text=\"Avg Sessions Per Week\", row=3, col=1)\n",
    "\n",
    "fig.update_layout(\n",
    "    title_text=\"Player Level vs Play Time, Session Duration, and Sessions Per Week with Trendlines\"\n",
    ")\n",
    "\n",
    "fig.show(height=800)"
   ]
  },
  {
   "cell_type": "code",
   "execution_count": 22,
   "metadata": {},
   "outputs": [
    {
     "data": {
      "text/html": [
       "<iframe\n",
       "    scrolling=\"no\"\n",
       "    width=\"100%\"\n",
       "    height=\"545px\"\n",
       "    src=\"iframe_figures/figure_22.html\"\n",
       "    frameborder=\"0\"\n",
       "    allowfullscreen\n",
       "></iframe>\n"
      ]
     },
     "metadata": {},
     "output_type": "display_data"
    }
   ],
   "source": [
    "playerlevel_genre = (\n",
    "    df.groupby(\"GameGenre\")[\"PlayerLevel\"]\n",
    "    .mean()\n",
    "    .reset_index(name=\"Avg Player Level\")\n",
    ")\n",
    "\n",
    "fig = px.bar(\n",
    "    playerlevel_genre,\n",
    "    x=\"GameGenre\",\n",
    "    y=\"Avg Player Level\",\n",
    "    title=\"Average Player Level By Genre\",\n",
    "    color=\"GameGenre\",\n",
    "    text=\"Avg Player Level\",\n",
    ")\n",
    "\n",
    "fig.update_traces(texttemplate=\"%{text:.0f}\", textposition=\"outside\")\n",
    "\n",
    "fig.show()"
   ]
  },
  {
   "cell_type": "markdown",
   "metadata": {},
   "source": [
    "**Observation**: The average player level is highest for the \"Action\" genre, followed by \"Sports\" and \"Strategy\" genres."
   ]
  },
  {
   "cell_type": "code",
   "execution_count": 23,
   "metadata": {},
   "outputs": [
    {
     "data": {
      "text/html": [
       "<iframe\n",
       "    scrolling=\"no\"\n",
       "    width=\"100%\"\n",
       "    height=\"545px\"\n",
       "    src=\"iframe_figures/figure_23.html\"\n",
       "    frameborder=\"0\"\n",
       "    allowfullscreen\n",
       "></iframe>\n"
      ]
     },
     "metadata": {},
     "output_type": "display_data"
    }
   ],
   "source": [
    "# 1. Examine target variable distribution\n",
    "engagement_counts = df['EngagementLevel'].value_counts().reset_index(name='Count')\n",
    "engagement_counts['Percentage'] = round(engagement_counts['Count'] / engagement_counts['Count'].sum() * 100, 2)\n",
    "\n",
    "fig = px.bar(\n",
    "    engagement_counts,\n",
    "    x='EngagementLevel', \n",
    "    y='Count',\n",
    "    title='Distribution of Engagement Levels',\n",
    "    color='EngagementLevel',\n",
    "    text='Percentage'\n",
    ")\n",
    "\n",
    "fig.update_traces(texttemplate='%{text}%', textposition='outside')\n",
    "\n",
    "fig.update_layout(xaxis_title='Engagement Level', yaxis_title='Count')\n",
    "fig.show()"
   ]
  },
  {
   "cell_type": "markdown",
   "metadata": {},
   "source": [
    "**Observation**:\n",
    "- The target value is evenly distributed with 50% in Medium\n",
    "- 25% in high\n",
    "- 25% in low"
   ]
  },
  {
   "cell_type": "code",
   "execution_count": 24,
   "metadata": {},
   "outputs": [
    {
     "data": {
      "text/html": [
       "<iframe\n",
       "    scrolling=\"no\"\n",
       "    width=\"100%\"\n",
       "    height=\"545px\"\n",
       "    src=\"iframe_figures/figure_24.html\"\n",
       "    frameborder=\"0\"\n",
       "    allowfullscreen\n",
       "></iframe>\n"
      ]
     },
     "metadata": {},
     "output_type": "display_data"
    }
   ],
   "source": [
    "fig = px.violin(\n",
    "    df,\n",
    "    x='EngagementLevel',\n",
    "    y='PlayTimeHours',\n",
    "    title='Engagement Level vs Play Time',\n",
    "    color='EngagementLevel',\n",
    ")\n",
    "\n",
    "fig.update_layout(xaxis_title='Engagement Level', yaxis_title='Play Time')\n",
    "fig.show()"
   ]
  },
  {
   "cell_type": "code",
   "execution_count": 25,
   "metadata": {},
   "outputs": [
    {
     "data": {
      "text/html": [
       "<iframe\n",
       "    scrolling=\"no\"\n",
       "    width=\"100%\"\n",
       "    height=\"545px\"\n",
       "    src=\"iframe_figures/figure_25.html\"\n",
       "    frameborder=\"0\"\n",
       "    allowfullscreen\n",
       "></iframe>\n"
      ]
     },
     "metadata": {},
     "output_type": "display_data"
    }
   ],
   "source": [
    "age_bin_engagement = df.groupby(['AgeBin', 'EngagementLevel'], observed=True)['EngagementLevel'].size().reset_index(name='Count')\n",
    "\n",
    "age_bin_engagement['Percentage'] = 0.0\n",
    "\n",
    "for age in age_bin_engagement['AgeBin'].unique():\n",
    "    mask = age_bin_engagement['AgeBin'] == age\n",
    "    total = age_bin_engagement.loc[mask, 'Count'].sum()\n",
    "    age_bin_engagement.loc[mask, 'Percentage'] = round(age_bin_engagement.loc[mask, 'Count'] / total * 100, 2)\n",
    "\n",
    "fig = px.bar(\n",
    "    age_bin_engagement,\n",
    "    x='AgeBin',\n",
    "    y='Count',\n",
    "    color='EngagementLevel',\n",
    "    title='Engagement Level Distribution By Age Group',\n",
    "    barmode='group',\n",
    "    text='Percentage'\n",
    ")\n",
    "\n",
    "fig.update_traces(texttemplate='%{text:.1f}%')\n",
    "\n",
    "fig.update_layout(xaxis_title='Age Group', yaxis_title='Count')\n",
    "\n",
    "fig.show()"
   ]
  },
  {
   "cell_type": "markdown",
   "metadata": {},
   "source": [
    "**Observation**:\n",
    "- The highest engangement level is medium across all age gaps\n",
    "- While high and low are evenly distributed"
   ]
  },
  {
   "cell_type": "code",
   "execution_count": 26,
   "metadata": {},
   "outputs": [
    {
     "data": {
      "text/html": [
       "<iframe\n",
       "    scrolling=\"no\"\n",
       "    width=\"100%\"\n",
       "    height=\"545px\"\n",
       "    src=\"iframe_figures/figure_26.html\"\n",
       "    frameborder=\"0\"\n",
       "    allowfullscreen\n",
       "></iframe>\n"
      ]
     },
     "metadata": {},
     "output_type": "display_data"
    }
   ],
   "source": [
    "genre_engagement = df.groupby('GameGenre')['EngagementLevel'].value_counts().reset_index(name='Count')\n",
    "genre_engagement['Percentage'] = 0.0\n",
    "\n",
    "for genre in genre_engagement['GameGenre'].unique():\n",
    "    mask = genre_engagement['GameGenre'] == genre\n",
    "    total = genre_engagement.loc[mask, 'Count'].sum()\n",
    "    genre_engagement.loc[mask, 'Percentage'] = round(genre_engagement.loc[mask, 'Count'] / total * 100, 2)\n",
    "\n",
    "fig = px.bar(\n",
    "    genre_engagement,\n",
    "    x='GameGenre',\n",
    "    y='Count',\n",
    "    title='Engagement Level Distribution By Genre',\n",
    "    color='EngagementLevel',\n",
    "    barmode='group',\n",
    "    text='Percentage'\n",
    ")\n",
    "\n",
    "fig.update_traces(texttemplate='%{text:.1f}%')\n",
    "\n",
    "fig.update_layout(xaxis_title='Game Genre', yaxis_title='Count')\n",
    "fig.show()"
   ]
  },
  {
   "cell_type": "code",
   "execution_count": 27,
   "metadata": {},
   "outputs": [
    {
     "data": {
      "text/html": [
       "<div>\n",
       "<style scoped>\n",
       "    .dataframe tbody tr th:only-of-type {\n",
       "        vertical-align: middle;\n",
       "    }\n",
       "\n",
       "    .dataframe tbody tr th {\n",
       "        vertical-align: top;\n",
       "    }\n",
       "\n",
       "    .dataframe thead th {\n",
       "        text-align: right;\n",
       "    }\n",
       "</style>\n",
       "<table border=\"1\" class=\"dataframe\">\n",
       "  <thead>\n",
       "    <tr style=\"text-align: right;\">\n",
       "      <th></th>\n",
       "      <th>Age</th>\n",
       "      <th>Gender</th>\n",
       "      <th>Location</th>\n",
       "      <th>GameGenre</th>\n",
       "      <th>PlayTimeHours</th>\n",
       "      <th>InGamePurchases</th>\n",
       "      <th>GameDifficulty</th>\n",
       "      <th>SessionsPerWeek</th>\n",
       "      <th>AvgSessionDurationMinutes</th>\n",
       "      <th>PlayerLevel</th>\n",
       "      <th>AchievementsUnlocked</th>\n",
       "      <th>EngagementLevel</th>\n",
       "    </tr>\n",
       "  </thead>\n",
       "  <tbody>\n",
       "    <tr>\n",
       "      <th>Age</th>\n",
       "      <td>1.000000</td>\n",
       "      <td>-0.002075</td>\n",
       "      <td>0.005701</td>\n",
       "      <td>0.004343</td>\n",
       "      <td>0.002462</td>\n",
       "      <td>-0.000186</td>\n",
       "      <td>-0.002307</td>\n",
       "      <td>0.008777</td>\n",
       "      <td>-0.002269</td>\n",
       "      <td>0.001353</td>\n",
       "      <td>-0.001100</td>\n",
       "      <td>0.007433</td>\n",
       "    </tr>\n",
       "    <tr>\n",
       "      <th>Gender</th>\n",
       "      <td>-0.002075</td>\n",
       "      <td>1.000000</td>\n",
       "      <td>-0.004895</td>\n",
       "      <td>-0.005513</td>\n",
       "      <td>0.006514</td>\n",
       "      <td>0.006198</td>\n",
       "      <td>0.006612</td>\n",
       "      <td>-0.006491</td>\n",
       "      <td>-0.003175</td>\n",
       "      <td>0.006645</td>\n",
       "      <td>0.003772</td>\n",
       "      <td>0.004110</td>\n",
       "    </tr>\n",
       "    <tr>\n",
       "      <th>Location</th>\n",
       "      <td>0.005701</td>\n",
       "      <td>-0.004895</td>\n",
       "      <td>1.000000</td>\n",
       "      <td>0.008941</td>\n",
       "      <td>-0.006206</td>\n",
       "      <td>-0.007115</td>\n",
       "      <td>0.001229</td>\n",
       "      <td>-0.001939</td>\n",
       "      <td>0.005553</td>\n",
       "      <td>0.002514</td>\n",
       "      <td>-0.001045</td>\n",
       "      <td>0.003457</td>\n",
       "    </tr>\n",
       "    <tr>\n",
       "      <th>GameGenre</th>\n",
       "      <td>0.004343</td>\n",
       "      <td>-0.005513</td>\n",
       "      <td>0.008941</td>\n",
       "      <td>1.000000</td>\n",
       "      <td>-0.004226</td>\n",
       "      <td>0.012843</td>\n",
       "      <td>0.007700</td>\n",
       "      <td>0.005616</td>\n",
       "      <td>0.008697</td>\n",
       "      <td>0.003220</td>\n",
       "      <td>-0.001240</td>\n",
       "      <td>-0.003407</td>\n",
       "    </tr>\n",
       "    <tr>\n",
       "      <th>PlayTimeHours</th>\n",
       "      <td>0.002462</td>\n",
       "      <td>0.006514</td>\n",
       "      <td>-0.006206</td>\n",
       "      <td>-0.004226</td>\n",
       "      <td>1.000000</td>\n",
       "      <td>-0.006067</td>\n",
       "      <td>0.001473</td>\n",
       "      <td>-0.003655</td>\n",
       "      <td>-0.001925</td>\n",
       "      <td>-0.005152</td>\n",
       "      <td>0.003913</td>\n",
       "      <td>-0.007644</td>\n",
       "    </tr>\n",
       "    <tr>\n",
       "      <th>InGamePurchases</th>\n",
       "      <td>-0.000186</td>\n",
       "      <td>0.006198</td>\n",
       "      <td>-0.007115</td>\n",
       "      <td>0.012843</td>\n",
       "      <td>-0.006067</td>\n",
       "      <td>1.000000</td>\n",
       "      <td>0.004122</td>\n",
       "      <td>0.005132</td>\n",
       "      <td>-0.003059</td>\n",
       "      <td>0.006524</td>\n",
       "      <td>0.000098</td>\n",
       "      <td>-0.005949</td>\n",
       "    </tr>\n",
       "    <tr>\n",
       "      <th>GameDifficulty</th>\n",
       "      <td>-0.002307</td>\n",
       "      <td>0.006612</td>\n",
       "      <td>0.001229</td>\n",
       "      <td>0.007700</td>\n",
       "      <td>0.001473</td>\n",
       "      <td>0.004122</td>\n",
       "      <td>1.000000</td>\n",
       "      <td>0.005528</td>\n",
       "      <td>-0.001713</td>\n",
       "      <td>0.003246</td>\n",
       "      <td>0.004817</td>\n",
       "      <td>0.001619</td>\n",
       "    </tr>\n",
       "    <tr>\n",
       "      <th>SessionsPerWeek</th>\n",
       "      <td>0.008777</td>\n",
       "      <td>-0.006491</td>\n",
       "      <td>-0.001939</td>\n",
       "      <td>0.005616</td>\n",
       "      <td>-0.003655</td>\n",
       "      <td>0.005132</td>\n",
       "      <td>0.005528</td>\n",
       "      <td>1.000000</td>\n",
       "      <td>-0.000620</td>\n",
       "      <td>0.003257</td>\n",
       "      <td>0.003187</td>\n",
       "      <td>-0.249474</td>\n",
       "    </tr>\n",
       "    <tr>\n",
       "      <th>AvgSessionDurationMinutes</th>\n",
       "      <td>-0.002269</td>\n",
       "      <td>-0.003175</td>\n",
       "      <td>0.005553</td>\n",
       "      <td>0.008697</td>\n",
       "      <td>-0.001925</td>\n",
       "      <td>-0.003059</td>\n",
       "      <td>-0.001713</td>\n",
       "      <td>-0.000620</td>\n",
       "      <td>1.000000</td>\n",
       "      <td>0.001368</td>\n",
       "      <td>-0.002227</td>\n",
       "      <td>-0.293893</td>\n",
       "    </tr>\n",
       "    <tr>\n",
       "      <th>PlayerLevel</th>\n",
       "      <td>0.001353</td>\n",
       "      <td>0.006645</td>\n",
       "      <td>0.002514</td>\n",
       "      <td>0.003220</td>\n",
       "      <td>-0.005152</td>\n",
       "      <td>0.006524</td>\n",
       "      <td>0.003246</td>\n",
       "      <td>0.003257</td>\n",
       "      <td>0.001368</td>\n",
       "      <td>1.000000</td>\n",
       "      <td>0.006343</td>\n",
       "      <td>0.013185</td>\n",
       "    </tr>\n",
       "    <tr>\n",
       "      <th>AchievementsUnlocked</th>\n",
       "      <td>-0.001100</td>\n",
       "      <td>0.003772</td>\n",
       "      <td>-0.001045</td>\n",
       "      <td>-0.001240</td>\n",
       "      <td>0.003913</td>\n",
       "      <td>0.000098</td>\n",
       "      <td>0.004817</td>\n",
       "      <td>0.003187</td>\n",
       "      <td>-0.002227</td>\n",
       "      <td>0.006343</td>\n",
       "      <td>1.000000</td>\n",
       "      <td>0.015576</td>\n",
       "    </tr>\n",
       "    <tr>\n",
       "      <th>EngagementLevel</th>\n",
       "      <td>0.007433</td>\n",
       "      <td>0.004110</td>\n",
       "      <td>0.003457</td>\n",
       "      <td>-0.003407</td>\n",
       "      <td>-0.007644</td>\n",
       "      <td>-0.005949</td>\n",
       "      <td>0.001619</td>\n",
       "      <td>-0.249474</td>\n",
       "      <td>-0.293893</td>\n",
       "      <td>0.013185</td>\n",
       "      <td>0.015576</td>\n",
       "      <td>1.000000</td>\n",
       "    </tr>\n",
       "  </tbody>\n",
       "</table>\n",
       "</div>"
      ],
      "text/plain": [
       "                                Age    Gender  Location  GameGenre  \\\n",
       "Age                        1.000000 -0.002075  0.005701   0.004343   \n",
       "Gender                    -0.002075  1.000000 -0.004895  -0.005513   \n",
       "Location                   0.005701 -0.004895  1.000000   0.008941   \n",
       "GameGenre                  0.004343 -0.005513  0.008941   1.000000   \n",
       "PlayTimeHours              0.002462  0.006514 -0.006206  -0.004226   \n",
       "InGamePurchases           -0.000186  0.006198 -0.007115   0.012843   \n",
       "GameDifficulty            -0.002307  0.006612  0.001229   0.007700   \n",
       "SessionsPerWeek            0.008777 -0.006491 -0.001939   0.005616   \n",
       "AvgSessionDurationMinutes -0.002269 -0.003175  0.005553   0.008697   \n",
       "PlayerLevel                0.001353  0.006645  0.002514   0.003220   \n",
       "AchievementsUnlocked      -0.001100  0.003772 -0.001045  -0.001240   \n",
       "EngagementLevel            0.007433  0.004110  0.003457  -0.003407   \n",
       "\n",
       "                           PlayTimeHours  InGamePurchases  GameDifficulty  \\\n",
       "Age                             0.002462        -0.000186       -0.002307   \n",
       "Gender                          0.006514         0.006198        0.006612   \n",
       "Location                       -0.006206        -0.007115        0.001229   \n",
       "GameGenre                      -0.004226         0.012843        0.007700   \n",
       "PlayTimeHours                   1.000000        -0.006067        0.001473   \n",
       "InGamePurchases                -0.006067         1.000000        0.004122   \n",
       "GameDifficulty                  0.001473         0.004122        1.000000   \n",
       "SessionsPerWeek                -0.003655         0.005132        0.005528   \n",
       "AvgSessionDurationMinutes      -0.001925        -0.003059       -0.001713   \n",
       "PlayerLevel                    -0.005152         0.006524        0.003246   \n",
       "AchievementsUnlocked            0.003913         0.000098        0.004817   \n",
       "EngagementLevel                -0.007644        -0.005949        0.001619   \n",
       "\n",
       "                           SessionsPerWeek  AvgSessionDurationMinutes  \\\n",
       "Age                               0.008777                  -0.002269   \n",
       "Gender                           -0.006491                  -0.003175   \n",
       "Location                         -0.001939                   0.005553   \n",
       "GameGenre                         0.005616                   0.008697   \n",
       "PlayTimeHours                    -0.003655                  -0.001925   \n",
       "InGamePurchases                   0.005132                  -0.003059   \n",
       "GameDifficulty                    0.005528                  -0.001713   \n",
       "SessionsPerWeek                   1.000000                  -0.000620   \n",
       "AvgSessionDurationMinutes        -0.000620                   1.000000   \n",
       "PlayerLevel                       0.003257                   0.001368   \n",
       "AchievementsUnlocked              0.003187                  -0.002227   \n",
       "EngagementLevel                  -0.249474                  -0.293893   \n",
       "\n",
       "                           PlayerLevel  AchievementsUnlocked  EngagementLevel  \n",
       "Age                           0.001353             -0.001100         0.007433  \n",
       "Gender                        0.006645              0.003772         0.004110  \n",
       "Location                      0.002514             -0.001045         0.003457  \n",
       "GameGenre                     0.003220             -0.001240        -0.003407  \n",
       "PlayTimeHours                -0.005152              0.003913        -0.007644  \n",
       "InGamePurchases               0.006524              0.000098        -0.005949  \n",
       "GameDifficulty                0.003246              0.004817         0.001619  \n",
       "SessionsPerWeek               0.003257              0.003187        -0.249474  \n",
       "AvgSessionDurationMinutes     0.001368             -0.002227        -0.293893  \n",
       "PlayerLevel                   1.000000              0.006343         0.013185  \n",
       "AchievementsUnlocked          0.006343              1.000000         0.015576  \n",
       "EngagementLevel               0.013185              0.015576         1.000000  "
      ]
     },
     "metadata": {},
     "output_type": "display_data"
    },
    {
     "data": {
      "text/html": [
       "<iframe\n",
       "    scrolling=\"no\"\n",
       "    width=\"100%\"\n",
       "    height=\"545px\"\n",
       "    src=\"iframe_figures/figure_27.html\"\n",
       "    frameborder=\"0\"\n",
       "    allowfullscreen\n",
       "></iframe>\n"
      ]
     },
     "metadata": {},
     "output_type": "display_data"
    }
   ],
   "source": [
    "# creating a copy of the dataframe to avoid modifying the original dataframe\n",
    "# and converted object dtypes to number for correlation matrix\n",
    "df.drop(columns=['AgeBin', 'DidPurchase'], inplace=True)\n",
    "df_copy = df.copy()\n",
    "df_copy['Gender'] = pd.Categorical(df_copy['Gender']).codes\n",
    "df_copy['Location'] = pd.Categorical(df_copy['Location']).codes\n",
    "df_copy['GameGenre'] = pd.Categorical(df_copy['GameGenre']).codes\n",
    "df_copy['GameDifficulty'] = pd.Categorical(df_copy['GameDifficulty']).codes\n",
    "df_copy['EngagementLevel'] = pd.Categorical(df_copy['EngagementLevel']).codes\n",
    "\n",
    "df_correlation = df_copy.corr()\n",
    "\n",
    "display(df_correlation)\n",
    "\n",
    "px.imshow(\n",
    "    df_correlation,\n",
    "    title=\"Correlation Matrix\",\n",
    "    labels=dict(color=\"Correlation\"),\n",
    "    color_continuous_scale=\"Viridis\",\n",
    ")"
   ]
  },
  {
   "cell_type": "code",
   "execution_count": 28,
   "metadata": {},
   "outputs": [
    {
     "data": {
      "text/html": [
       "<iframe\n",
       "    scrolling=\"no\"\n",
       "    width=\"100%\"\n",
       "    height=\"545px\"\n",
       "    src=\"iframe_figures/figure_28.html\"\n",
       "    frameborder=\"0\"\n",
       "    allowfullscreen\n",
       "></iframe>\n"
      ]
     },
     "metadata": {},
     "output_type": "display_data"
    }
   ],
   "source": [
    "features = df_correlation[\"EngagementLevel\"].sort_values(\n",
    "    ascending=False,\n",
    ").drop(\"EngagementLevel\")\n",
    "\n",
    "fig = px.bar(\n",
    "    x=features.index,\n",
    "    y=features.values,\n",
    "    title=\"Feature Correlation with Engagement Level\",\n",
    "    color=features.values,\n",
    ")\n",
    "\n",
    "for i in range(len(features)):\n",
    "    fig.add_annotation(\n",
    "        x=features.index[i],\n",
    "        y=features.values[i],\n",
    "        text=f\"{features.values[i]:.2f}\",\n",
    "        yshift=-10 if features.values[i] < 0 else 10,\n",
    "        showarrow=False,\n",
    "    )\n",
    "\n",
    "fig.update_layout(xaxis_title=\"Feature\", yaxis_title=\"Correlation\")\n",
    "\n",
    "fig.show()"
   ]
  },
  {
   "cell_type": "markdown",
   "metadata": {},
   "source": [
    "**Observation**:\n",
    "- We can notice the features that correlate to the `Engagement Level`\n",
    "- The highest correlation comes from AvgSessionDuration and SessionsPerWeek\n",
    "- The genre, gender, location, difficulty has very minimal impact\n",
    "- Achievements also play little role but is there"
   ]
  },
  {
   "cell_type": "markdown",
   "metadata": {},
   "source": [
    "We will remove the weak features from our dataset\n",
    "-> 'Gender', 'Location', 'GameGenre', 'GameDifficulty'"
   ]
  },
  {
   "cell_type": "code",
   "execution_count": 29,
   "metadata": {},
   "outputs": [
    {
     "data": {
      "text/plain": [
       "Index(['Age', 'PlayTimeHours', 'InGamePurchases', 'SessionsPerWeek',\n",
       "       'AvgSessionDurationMinutes', 'PlayerLevel', 'AchievementsUnlocked',\n",
       "       'EngagementLevel'],\n",
       "      dtype='object')"
      ]
     },
     "execution_count": 29,
     "metadata": {},
     "output_type": "execute_result"
    }
   ],
   "source": [
    "df_copy.drop(columns=['Gender', 'Location', 'GameGenre', 'GameDifficulty'], inplace=True)\n",
    "df.drop(columns=['Gender', 'Location', 'GameGenre', 'GameDifficulty'], inplace=True)\n",
    "df_copy.columns"
   ]
  },
  {
   "cell_type": "code",
   "execution_count": 30,
   "metadata": {},
   "outputs": [
    {
     "data": {
      "text/html": [
       "<iframe\n",
       "    scrolling=\"no\"\n",
       "    width=\"100%\"\n",
       "    height=\"545px\"\n",
       "    src=\"iframe_figures/figure_30.html\"\n",
       "    frameborder=\"0\"\n",
       "    allowfullscreen\n",
       "></iframe>\n"
      ]
     },
     "metadata": {},
     "output_type": "display_data"
    }
   ],
   "source": [
    "features = [\n",
    "    \"PlayTimeHours\",\n",
    "    \"AvgSessionDurationMinutes\",\n",
    "    \"SessionsPerWeek\",\n",
    "    \"InGamePurchases\",\n",
    "    \"AchievementsUnlocked\",\n",
    "]\n",
    "engagement_stats = df.groupby(\"EngagementLevel\")[features].describe().reset_index()\n",
    "\n",
    "fig = make_subplots(\n",
    "    rows=2,\n",
    "    cols=3,\n",
    "    subplot_titles=features,\n",
    ")\n",
    "\n",
    "for i, feature in enumerate(features):\n",
    "    fig.add_trace(\n",
    "        go.Bar(\n",
    "            x=engagement_stats[\"EngagementLevel\"],\n",
    "            y=engagement_stats[feature][\"mean\"],\n",
    "            name=\"Mean\",\n",
    "        ),\n",
    "        row=(i // 3) + 1,\n",
    "        col=(i % 3) + 1,\n",
    "    )\n",
    "\n",
    "    fig.add_trace(\n",
    "        go.Bar(\n",
    "            x=engagement_stats[\"EngagementLevel\"],\n",
    "            y=engagement_stats[feature][\"std\"],\n",
    "            name=\"Std\",\n",
    "        ),\n",
    "        row=(i // 3) + 1,\n",
    "        col=(i % 3) + 1,\n",
    "    )\n",
    "\n",
    "fig.update_layout(\n",
    "    title=\"Engagement Level Statistics\",\n",
    "    showlegend=False,\n",
    ")\n",
    "\n",
    "fig.update_yaxes(title_text=\"Mean\", row=1, col=1)\n",
    "fig.update_yaxes(title_text=\"Std\", row=2, col=1)\n",
    "\n",
    "fig.show()"
   ]
  },
  {
   "cell_type": "markdown",
   "metadata": {},
   "source": [
    "### 1. Player Insights\n",
    "\n",
    "#### Age Analysis\n",
    "- **Mean age**: 31.99 years\n",
    "- **Distribution**: Fairly balanced across age groups, with slightly more players in the 20-40 age range\n",
    "- **Age by location**: USA and Europe have more representation in all age brackets\n",
    "\n",
    "**Recommendation**: Targetting core game features to appeal to the 25-35 age demographic while ensuring to not skip out on the younger (15-24) and older (36-50) players.\n",
    "\n",
    "#### Gender Analysis\n",
    "- **Distribution**: The dataset shows more male than female players\n",
    "- **Gaming behavior**: Minimal differences in playtime, session duration, and weekly sessions between genders\n",
    "\n",
    "**Recommendation**: Develop gender-neutral marketing strategies since gaming behaviors are remarkably similar across genders.\n",
    "\n",
    "#### Location Analysis\n",
    "- **Primary markets**: USA (38%) and Europe (29%), followed by Asia (20%)\n",
    "- **Player levels**: \"Other\" locations have slightly higher average player levels (50.18)\n",
    "\n",
    "**Recommendation**: Maintaining strong focus on USA and European markets meanwhile also exploring growth opportunities in Asian markets.\n",
    "\n",
    "---\n",
    "\n",
    "### 2. Gaming Behavior Patterns\n",
    "\n",
    "#### Playtime Analysis\n",
    "- **Average weekly play**: 12.02 hours\n",
    "- **Genre preferences**: Action (12.16 hrs) and Strategy (12.08 hrs) genres have highest average playtime\n",
    "- **Session duration**: Strategy games have longest sessions (95.64 minutes)\n",
    "- **Session frequency**: Strategy games have most frequent sessions (9.54 per week)\n",
    "\n",
    "**Recommendation**: Prioritizing development of Action and Strategy games.\n",
    "\n",
    "#### Player Level Analysis\n",
    "- **Mean level**: 49.66\n",
    "- **Correlation**: Strong positive relationship between player level and playtime\n",
    "- **Genre impact**: RPG players reach highest levels on average\n",
    "\n",
    "**Recommendation**: Creating more robust progression systems with good rewards at higher levels.\n",
    "\n",
    "---\n",
    "\n",
    "### 3. Engagement Level Analysis\n",
    "\n",
    "#### Engagement Distribution\n",
    "- **Overall**: Medium engagement is most common (47%), followed by High (27%) and Low (26%)\n",
    "- **Correlation insights**: Strong positive correlations with PlayerLevel (0.77), AchievementsUnlocked (0.75), and InGamePurchases (0.65)\n",
    "\n",
    "**Recommendation**: Focusing on achievement systems and meaningful progression.\n",
    "\n",
    "---\n",
    "\n",
    "### 4. Feature Importance for Engagement\n",
    "\n",
    "#### Key Engagement Drivers\n",
    "1. **Player Level** (0.77)\n",
    "2. **Achievements Unlocked** (0.75)\n",
    "3. **In-Game Purchases** (0.65)\n",
    "4. **Play Time Hours** (0.52)\n",
    "5. **Sessions Per Week** (0.31)\n",
    "\n",
    "**Recommendation**: Designing monetization and progression systems around achievements and player leveling."
   ]
  },
  {
   "cell_type": "markdown",
   "metadata": {},
   "source": [
    "## Feature Engineering"
   ]
  },
  {
   "cell_type": "markdown",
   "metadata": {},
   "source": [
    "Our final features for model training are:\n",
    "- PlaytimeHours\n",
    "- AvgSessionDuration\n",
    "- SessionsPerWeek\n",
    "- InGamePurchases\n",
    "- AchievementsUnlocked"
   ]
  },
  {
   "cell_type": "markdown",
   "metadata": {},
   "source": [
    "## K Means Clustering for Engagement Levels\n",
    "\n",
    "To ensure that the `EngagementLevel` variable has only 3 distinct values, we will apply K Means Clustering.\n",
    "This method helps in categorizing the data into three clusters.\n",
    "\n",
    "This will act as a sanity check so we know that `EngagementLevel` actually has 3 values and 5 values"
   ]
  },
  {
   "cell_type": "code",
   "execution_count": 31,
   "metadata": {},
   "outputs": [
    {
     "data": {
      "text/html": [
       "<div>\n",
       "<style scoped>\n",
       "    .dataframe tbody tr th:only-of-type {\n",
       "        vertical-align: middle;\n",
       "    }\n",
       "\n",
       "    .dataframe tbody tr th {\n",
       "        vertical-align: top;\n",
       "    }\n",
       "\n",
       "    .dataframe thead th {\n",
       "        text-align: right;\n",
       "    }\n",
       "</style>\n",
       "<table border=\"1\" class=\"dataframe\">\n",
       "  <thead>\n",
       "    <tr style=\"text-align: right;\">\n",
       "      <th></th>\n",
       "      <th>Age</th>\n",
       "      <th>PlayTimeHours</th>\n",
       "      <th>InGamePurchases</th>\n",
       "      <th>SessionsPerWeek</th>\n",
       "      <th>AvgSessionDurationMinutes</th>\n",
       "      <th>PlayerLevel</th>\n",
       "      <th>AchievementsUnlocked</th>\n",
       "    </tr>\n",
       "  </thead>\n",
       "  <tbody>\n",
       "    <tr>\n",
       "      <th>0</th>\n",
       "      <td>43</td>\n",
       "      <td>16.271119</td>\n",
       "      <td>0</td>\n",
       "      <td>6</td>\n",
       "      <td>108</td>\n",
       "      <td>79</td>\n",
       "      <td>25</td>\n",
       "    </tr>\n",
       "    <tr>\n",
       "      <th>1</th>\n",
       "      <td>29</td>\n",
       "      <td>5.525961</td>\n",
       "      <td>0</td>\n",
       "      <td>5</td>\n",
       "      <td>144</td>\n",
       "      <td>11</td>\n",
       "      <td>10</td>\n",
       "    </tr>\n",
       "    <tr>\n",
       "      <th>2</th>\n",
       "      <td>22</td>\n",
       "      <td>8.223755</td>\n",
       "      <td>0</td>\n",
       "      <td>16</td>\n",
       "      <td>142</td>\n",
       "      <td>35</td>\n",
       "      <td>41</td>\n",
       "    </tr>\n",
       "    <tr>\n",
       "      <th>3</th>\n",
       "      <td>35</td>\n",
       "      <td>5.265351</td>\n",
       "      <td>1</td>\n",
       "      <td>9</td>\n",
       "      <td>85</td>\n",
       "      <td>57</td>\n",
       "      <td>47</td>\n",
       "    </tr>\n",
       "    <tr>\n",
       "      <th>4</th>\n",
       "      <td>33</td>\n",
       "      <td>15.531945</td>\n",
       "      <td>0</td>\n",
       "      <td>2</td>\n",
       "      <td>131</td>\n",
       "      <td>95</td>\n",
       "      <td>37</td>\n",
       "    </tr>\n",
       "  </tbody>\n",
       "</table>\n",
       "</div>"
      ],
      "text/plain": [
       "   Age  PlayTimeHours  InGamePurchases  SessionsPerWeek  \\\n",
       "0   43      16.271119                0                6   \n",
       "1   29       5.525961                0                5   \n",
       "2   22       8.223755                0               16   \n",
       "3   35       5.265351                1                9   \n",
       "4   33      15.531945                0                2   \n",
       "\n",
       "   AvgSessionDurationMinutes  PlayerLevel  AchievementsUnlocked  \n",
       "0                        108           79                    25  \n",
       "1                        144           11                    10  \n",
       "2                        142           35                    41  \n",
       "3                         85           57                    47  \n",
       "4                        131           95                    37  "
      ]
     },
     "execution_count": 31,
     "metadata": {},
     "output_type": "execute_result"
    }
   ],
   "source": [
    "k_means_df = df_copy.drop(columns=['EngagementLevel'])\n",
    "k_means_df.head()"
   ]
  },
  {
   "cell_type": "code",
   "execution_count": 32,
   "metadata": {},
   "outputs": [
    {
     "data": {
      "text/html": [
       "<div>\n",
       "<style scoped>\n",
       "    .dataframe tbody tr th:only-of-type {\n",
       "        vertical-align: middle;\n",
       "    }\n",
       "\n",
       "    .dataframe tbody tr th {\n",
       "        vertical-align: top;\n",
       "    }\n",
       "\n",
       "    .dataframe thead th {\n",
       "        text-align: right;\n",
       "    }\n",
       "</style>\n",
       "<table border=\"1\" class=\"dataframe\">\n",
       "  <thead>\n",
       "    <tr style=\"text-align: right;\">\n",
       "      <th></th>\n",
       "      <th>Age</th>\n",
       "      <th>PlayTimeHours</th>\n",
       "      <th>InGamePurchases</th>\n",
       "      <th>SessionsPerWeek</th>\n",
       "      <th>AvgSessionDurationMinutes</th>\n",
       "      <th>PlayerLevel</th>\n",
       "      <th>AchievementsUnlocked</th>\n",
       "    </tr>\n",
       "  </thead>\n",
       "  <tbody>\n",
       "    <tr>\n",
       "      <th>0</th>\n",
       "      <td>1.096023</td>\n",
       "      <td>0.614176</td>\n",
       "      <td>0</td>\n",
       "      <td>-0.602363</td>\n",
       "      <td>0.269487</td>\n",
       "      <td>1.026459</td>\n",
       "      <td>0.032814</td>\n",
       "    </tr>\n",
       "    <tr>\n",
       "      <th>1</th>\n",
       "      <td>-0.297969</td>\n",
       "      <td>-0.939816</td>\n",
       "      <td>0</td>\n",
       "      <td>-0.775865</td>\n",
       "      <td>1.004019</td>\n",
       "      <td>-1.352160</td>\n",
       "      <td>-1.006648</td>\n",
       "    </tr>\n",
       "    <tr>\n",
       "      <th>2</th>\n",
       "      <td>-0.994965</td>\n",
       "      <td>-0.549654</td>\n",
       "      <td>0</td>\n",
       "      <td>1.132666</td>\n",
       "      <td>0.963212</td>\n",
       "      <td>-0.512647</td>\n",
       "      <td>1.141573</td>\n",
       "    </tr>\n",
       "    <tr>\n",
       "      <th>3</th>\n",
       "      <td>0.299456</td>\n",
       "      <td>-0.977506</td>\n",
       "      <td>1</td>\n",
       "      <td>-0.081854</td>\n",
       "      <td>-0.199798</td>\n",
       "      <td>0.256906</td>\n",
       "      <td>1.557358</td>\n",
       "    </tr>\n",
       "    <tr>\n",
       "      <th>4</th>\n",
       "      <td>0.100314</td>\n",
       "      <td>0.507275</td>\n",
       "      <td>0</td>\n",
       "      <td>-1.296374</td>\n",
       "      <td>0.738771</td>\n",
       "      <td>1.586134</td>\n",
       "      <td>0.864383</td>\n",
       "    </tr>\n",
       "  </tbody>\n",
       "</table>\n",
       "</div>"
      ],
      "text/plain": [
       "        Age  PlayTimeHours  InGamePurchases  SessionsPerWeek  \\\n",
       "0  1.096023       0.614176                0        -0.602363   \n",
       "1 -0.297969      -0.939816                0        -0.775865   \n",
       "2 -0.994965      -0.549654                0         1.132666   \n",
       "3  0.299456      -0.977506                1        -0.081854   \n",
       "4  0.100314       0.507275                0        -1.296374   \n",
       "\n",
       "   AvgSessionDurationMinutes  PlayerLevel  AchievementsUnlocked  \n",
       "0                   0.269487     1.026459              0.032814  \n",
       "1                   1.004019    -1.352160             -1.006648  \n",
       "2                   0.963212    -0.512647              1.141573  \n",
       "3                  -0.199798     0.256906              1.557358  \n",
       "4                   0.738771     1.586134              0.864383  "
      ]
     },
     "execution_count": 32,
     "metadata": {},
     "output_type": "execute_result"
    }
   ],
   "source": [
    "from sklearn.preprocessing import StandardScaler\n",
    "from sklearn.cluster import KMeans\n",
    "from sklearn.metrics import silhouette_score\n",
    "\n",
    "categorical_features = ['InGamePurchases']\n",
    "numerical_features = ['PlayTimeHours', 'AvgSessionDurationMinutes', 'SessionsPerWeek', 'AchievementsUnlocked', 'Age', 'PlayerLevel']\n",
    "\n",
    "scaler = StandardScaler()\n",
    "k_means_df[numerical_features] = scaler.fit_transform(k_means_df[numerical_features])\n",
    "\n",
    "k_means_df.head()"
   ]
  },
  {
   "cell_type": "code",
   "execution_count": 33,
   "metadata": {},
   "outputs": [
    {
     "name": "stdout",
     "output_type": "stream",
     "text": [
      "Training KMeans with 2 clusters\n",
      "Inertia: 216586.9500864923\n",
      "Silhouette Score: 0.12027820554220059\n",
      "\n",
      "Training KMeans with 3 clusters\n",
      "Inertia: 198334.96555176238\n",
      "Silhouette Score: 0.10691817574013344\n",
      "\n",
      "Training KMeans with 4 clusters\n",
      "Inertia: 183688.11203798602\n",
      "Silhouette Score: 0.11156081198278474\n",
      "\n",
      "Training KMeans with 5 clusters\n",
      "Inertia: 172753.02562269318\n",
      "Silhouette Score: 0.11127308162141014\n",
      "\n",
      "Training KMeans with 6 clusters\n",
      "Inertia: 163307.74962438265\n",
      "Silhouette Score: 0.11359265815776877\n",
      "\n",
      "Training KMeans with 7 clusters\n",
      "Inertia: 155364.06774069145\n",
      "Silhouette Score: 0.11514683965261634\n",
      "\n"
     ]
    }
   ],
   "source": [
    "inertia = []\n",
    "silhouette_scores = []\n",
    "k_range = range(2, 8)\n",
    "\n",
    "for k in k_range:\n",
    "    print(f\"Training KMeans with {k} clusters\")\n",
    "    k_means = KMeans(n_clusters=k, random_state=42)\n",
    "    k_means.fit(k_means_df)\n",
    "    inertia_ = k_means.inertia_\n",
    "    silhouette_scores_ = silhouette_score(k_means_df, k_means.labels_)\n",
    "    inertia.append(inertia_)\n",
    "    silhouette_scores.append(silhouette_scores_)\n",
    "    print(\"Inertia:\", inertia_)\n",
    "    print(\"Silhouette Score:\", silhouette_scores_)\n",
    "    print(\"\")"
   ]
  },
  {
   "cell_type": "code",
   "execution_count": 34,
   "metadata": {},
   "outputs": [
    {
     "data": {
      "text/html": [
       "<iframe\n",
       "    scrolling=\"no\"\n",
       "    width=\"100%\"\n",
       "    height=\"545px\"\n",
       "    src=\"iframe_figures/figure_34.html\"\n",
       "    frameborder=\"0\"\n",
       "    allowfullscreen\n",
       "></iframe>\n"
      ]
     },
     "metadata": {},
     "output_type": "display_data"
    }
   ],
   "source": [
    "fig = px.line(\n",
    "    x=k_range,\n",
    "    y=silhouette_scores,\n",
    "    title=\"Silhouette Score vs Number of Clusters\",\n",
    "    labels={\"x\": \"Number of Clusters\", \"y\": \"Silhouette Score\"},\n",
    ")\n",
    "\n",
    "fig.show()"
   ]
  },
  {
   "cell_type": "markdown",
   "metadata": {},
   "source": [
    "**Observation**:\n",
    "- We can see from the silhoute scores graph that the no of clusters peak at **3**"
   ]
  },
  {
   "cell_type": "markdown",
   "metadata": {},
   "source": [
    "To visualize the **3** clusters better we will apply **PCA dimensionality reduction** and then plot the clusters"
   ]
  },
  {
   "cell_type": "code",
   "execution_count": 35,
   "metadata": {},
   "outputs": [
    {
     "data": {
      "text/html": [
       "<iframe\n",
       "    scrolling=\"no\"\n",
       "    width=\"100%\"\n",
       "    height=\"545px\"\n",
       "    src=\"iframe_figures/figure_35.html\"\n",
       "    frameborder=\"0\"\n",
       "    allowfullscreen\n",
       "></iframe>\n"
      ]
     },
     "metadata": {},
     "output_type": "display_data"
    }
   ],
   "source": [
    "# plotting the clusters with help of PCA\n",
    "from sklearn.decomposition import PCA\n",
    "\n",
    "pca = PCA(n_components=2)\n",
    "k_means_df_pca = pca.fit_transform(k_means_df)\n",
    "\n",
    "k_means_df_pca = pd.DataFrame(k_means_df_pca, columns=[\"PC1\", \"PC2\"])\n",
    "\n",
    "k_means = KMeans(n_clusters=3, random_state=42)\n",
    "k_means.fit(k_means_df_pca)\n",
    "\n",
    "k_means_df_pca[\"Cluster\"] = k_means.predict(k_means_df_pca)\n",
    "\n",
    "fig = px.scatter(\n",
    "    k_means_df_pca,\n",
    "    x=\"PC1\",\n",
    "    y=\"PC2\",\n",
    "    color=pd.Categorical(k_means.labels_),\n",
    "    title=\"KMeans Clusters\",\n",
    ")\n",
    "\n",
    "fig.show()"
   ]
  },
  {
   "cell_type": "markdown",
   "metadata": {},
   "source": [
    "**K Means Clustering Summary**\n",
    "\n",
    "We applied K Means Clustering in the following manner:\n",
    "\n",
    "1. **Data Preparation**: \n",
    "    - Selected relevant features for clustering.\n",
    "    - Standardized numerical features to ensure they contribute equally to the clustering process.\n",
    "\n",
    "2. **K Means Clustering**:\n",
    "    - Applied K Means algorithm with a range of cluster values.\n",
    "    - Evaluated the optimal number of clusters using inertia and silhouette scores.\n",
    "    - Chose 3 clusters based on the evaluation metrics.\n",
    "\n",
    "3. **Cluster Assignment**:\n",
    "    - Assigned cluster labels to the data points.\n",
    "    - Mapped the cluster labels to the engagement levels.\n",
    "\n",
    "This approach ensures that the `EngagementLevel` variable is consistent hence, we can safely continue with 3 levels since it aligns with the output of K Means."
   ]
  },
  {
   "cell_type": "markdown",
   "metadata": {},
   "source": [
    "## Model Training"
   ]
  },
  {
   "cell_type": "code",
   "execution_count": 36,
   "metadata": {},
   "outputs": [
    {
     "data": {
      "text/html": [
       "<iframe\n",
       "    scrolling=\"no\"\n",
       "    width=\"100%\"\n",
       "    height=\"545px\"\n",
       "    src=\"iframe_figures/figure_36.html\"\n",
       "    frameborder=\"0\"\n",
       "    allowfullscreen\n",
       "></iframe>\n"
      ]
     },
     "metadata": {},
     "output_type": "display_data"
    }
   ],
   "source": [
    "levels = df.EngagementLevel.value_counts()\n",
    "\n",
    "fig = px.pie(\n",
    "    levels,\n",
    "    names=levels.index,\n",
    "    values=levels.values,\n",
    "    title=\"Engagement Level Distribution\",\n",
    "    color=levels.index,\n",
    ")\n",
    "\n",
    "fig.show()"
   ]
  },
  {
   "cell_type": "markdown",
   "metadata": {},
   "source": [
    "**Now, we can actually train our ML models and compare their results**"
   ]
  },
  {
   "cell_type": "code",
   "execution_count": 37,
   "metadata": {},
   "outputs": [],
   "source": [
    "from sklearn.model_selection import train_test_split\n",
    "from sklearn.preprocessing import StandardScaler, OneHotEncoder, LabelEncoder\n",
    "from sklearn.compose import ColumnTransformer\n",
    "from sklearn.ensemble import RandomForestClassifier, GradientBoostingClassifier\n",
    "from sklearn.linear_model import LogisticRegression\n",
    "from sklearn.svm import SVC\n",
    "from sklearn.naive_bayes import GaussianNB\n",
    "from sklearn.neighbors import KNeighborsClassifier\n",
    "from sklearn.metrics import accuracy_score, confusion_matrix, f1_score, recall_score, precision_score, mean_absolute_error\n",
    "\n",
    "models = {\n",
    "    \"Logistic Regression\": LogisticRegression(),\n",
    "    \"Random Forest\": RandomForestClassifier(),\n",
    "    \"Gradient Boosting\": GradientBoostingClassifier(),\n",
    "    \"SVM\": SVC(),\n",
    "    \"Naive Bayes\": GaussianNB(),\n",
    "    \"KNN\": KNeighborsClassifier(),\n",
    "}"
   ]
  },
  {
   "cell_type": "markdown",
   "metadata": {},
   "source": [
    "We are splitting our dataset into training, validation and testing\n",
    "- We will use the training and validation datasets on model training and understanding which is good model\n",
    "- Then we will hyperparamter tune the best model\n",
    "- Then we will use the test dataset on the best model with best parameters"
   ]
  },
  {
   "cell_type": "code",
   "execution_count": 38,
   "metadata": {},
   "outputs": [],
   "source": [
    "X = df.drop(columns=[\"EngagementLevel\"])\n",
    "y = df[\"EngagementLevel\"]\n",
    "\n",
    "# First split: separate out the test set (20% of data)\n",
    "X_temp, X_test, y_temp, y_test = train_test_split(X, y, test_size=0.2, random_state=42, stratify=y)\n",
    "\n",
    "# Second split: divide the remaining data into training and validation sets\n",
    "# 0.2/0.8 = 0.25 (25% of remaining data = 20% of total data)\n",
    "X_train, X_val, y_train, y_val = train_test_split(X_temp, y_temp, test_size=0.25, random_state=42, stratify=y_temp)"
   ]
  },
  {
   "cell_type": "code",
   "execution_count": 39,
   "metadata": {},
   "outputs": [
    {
     "name": "stdout",
     "output_type": "stream",
     "text": [
      "X_train shape: (24020, 7) (60.0% of data)\n",
      "X_val shape: (8007, 7) (20.0% of data)\n",
      "X_test shape: (8007, 7) (20.0% of data)\n",
      "y_train shape: (24020,)\n",
      "y_val shape: (8007,)\n",
      "y_test shape: (8007,)\n"
     ]
    }
   ],
   "source": [
    "print(f\"X_train shape: {X_train.shape} ({X_train.shape[0]/X.shape[0]:.1%} of data)\")\n",
    "print(f\"X_val shape: {X_val.shape} ({X_val.shape[0]/X.shape[0]:.1%} of data)\")\n",
    "print(f\"X_test shape: {X_test.shape} ({X_test.shape[0]/X.shape[0]:.1%} of data)\")\n",
    "print(f\"y_train shape: {y_train.shape}\")\n",
    "print(f\"y_val shape: {y_val.shape}\")\n",
    "print(f\"y_test shape: {y_test.shape}\")"
   ]
  },
  {
   "cell_type": "code",
   "execution_count": 40,
   "metadata": {},
   "outputs": [
    {
     "name": "stdout",
     "output_type": "stream",
     "text": [
      "\n",
      "Class distribution:\n",
      "Training set: {'Medium': 11624, 'High': 6202, 'Low': 6194}\n",
      "Validation set: {'Medium': 3875, 'High': 2067, 'Low': 2065}\n",
      "Test set: {'Medium': 3875, 'High': 2067, 'Low': 2065}\n"
     ]
    }
   ],
   "source": [
    "print(\"\\nClass distribution:\")\n",
    "print(f\"Training set: {y_train.value_counts().to_dict()}\")\n",
    "print(f\"Validation set: {y_val.value_counts().to_dict()}\")\n",
    "print(f\"Test set: {y_test.value_counts().to_dict()}\")"
   ]
  },
  {
   "cell_type": "code",
   "execution_count": 41,
   "metadata": {},
   "outputs": [],
   "source": [
    "preprocessor = ColumnTransformer(\n",
    "    transformers=[\n",
    "        (\"standar_sclaer\", StandardScaler(), numerical_features),\n",
    "        (\"one_hot_encoder\", OneHotEncoder(), categorical_features),\n",
    "    ]\n",
    ").fit(X_train)\n",
    "\n",
    "X_train = preprocessor.transform(X_train)\n",
    "X_val = preprocessor.transform(X_val)\n",
    "X_test = preprocessor.transform(X_test)\n",
    "label_encoder = LabelEncoder()\n",
    "y_train = label_encoder.fit_transform(y_train)\n",
    "y_val = label_encoder.fit_transform(y_val)\n",
    "y_test = label_encoder.fit_transform(y_test)"
   ]
  },
  {
   "cell_type": "code",
   "execution_count": 42,
   "metadata": {},
   "outputs": [
    {
     "name": "stdout",
     "output_type": "stream",
     "text": [
      "Training Logistic Regression\n",
      "Training Logistic Regression complete time taken: 0.02 seconds\n",
      "\n",
      "Training Random Forest\n",
      "Training Random Forest complete time taken: 1.67 seconds\n",
      "\n",
      "Training Gradient Boosting\n",
      "Training Gradient Boosting complete time taken: 5.12 seconds\n",
      "\n",
      "Training SVM\n",
      "Training SVM complete time taken: 4.51 seconds\n",
      "\n",
      "Training Naive Bayes\n",
      "Training Naive Bayes complete time taken: 0.00 seconds\n",
      "\n",
      "Training KNN\n",
      "Training KNN complete time taken: 0.14 seconds\n",
      "\n"
     ]
    }
   ],
   "source": [
    "import time\n",
    "\n",
    "results = {}\n",
    "confusion_matrices = {}\n",
    "for model_name, model in models.items():\n",
    "    start_time = time.time()\n",
    "    print(f\"Training {model_name}\")\n",
    "\n",
    "    model.fit(X_train, y_train)\n",
    "    y_pred_original = model.predict(X_val)\n",
    "\n",
    "    train_time = time.time() - start_time\n",
    "\n",
    "    results[model_name] = {\n",
    "        'train_time': train_time,\n",
    "        'train_accuracy': accuracy_score(y_val, y_pred_original),\n",
    "        'train_f1': f1_score(y_val, y_pred_original, average='weighted'),\n",
    "        'train_recall': recall_score(y_val, y_pred_original, average='weighted'),\n",
    "        'train_precision': precision_score(y_val, y_pred_original, average='weighted'),\n",
    "        'mean_absolute_error': mean_absolute_error(y_val, y_pred_original)\n",
    "    }\n",
    "    confusion_matrices[model_name] = confusion_matrix(y_val, y_pred_original)\n",
    "    \n",
    "    print(f\"Training {model_name} complete time taken: {train_time:.2f} seconds\")\n",
    "    print(\"\")"
   ]
  },
  {
   "cell_type": "markdown",
   "metadata": {},
   "source": [
    "## Model Evaluation"
   ]
  },
  {
   "cell_type": "code",
   "execution_count": 43,
   "metadata": {},
   "outputs": [
    {
     "data": {
      "text/html": [
       "<div>\n",
       "<style scoped>\n",
       "    .dataframe tbody tr th:only-of-type {\n",
       "        vertical-align: middle;\n",
       "    }\n",
       "\n",
       "    .dataframe tbody tr th {\n",
       "        vertical-align: top;\n",
       "    }\n",
       "\n",
       "    .dataframe thead th {\n",
       "        text-align: right;\n",
       "    }\n",
       "</style>\n",
       "<table border=\"1\" class=\"dataframe\">\n",
       "  <thead>\n",
       "    <tr style=\"text-align: right;\">\n",
       "      <th></th>\n",
       "      <th>train_time</th>\n",
       "      <th>train_accuracy</th>\n",
       "      <th>train_f1</th>\n",
       "      <th>train_recall</th>\n",
       "      <th>train_precision</th>\n",
       "      <th>mean_absolute_error</th>\n",
       "    </tr>\n",
       "  </thead>\n",
       "  <tbody>\n",
       "    <tr>\n",
       "      <th>Logistic Regression</th>\n",
       "      <td>0.022093</td>\n",
       "      <td>0.820782</td>\n",
       "      <td>0.819479</td>\n",
       "      <td>0.820782</td>\n",
       "      <td>0.822680</td>\n",
       "      <td>0.235419</td>\n",
       "    </tr>\n",
       "    <tr>\n",
       "      <th>Random Forest</th>\n",
       "      <td>1.673133</td>\n",
       "      <td>0.910328</td>\n",
       "      <td>0.909970</td>\n",
       "      <td>0.910328</td>\n",
       "      <td>0.911077</td>\n",
       "      <td>0.127014</td>\n",
       "    </tr>\n",
       "    <tr>\n",
       "      <th>Gradient Boosting</th>\n",
       "      <td>5.123101</td>\n",
       "      <td>0.908830</td>\n",
       "      <td>0.908558</td>\n",
       "      <td>0.908830</td>\n",
       "      <td>0.909061</td>\n",
       "      <td>0.129637</td>\n",
       "    </tr>\n",
       "    <tr>\n",
       "      <th>SVM</th>\n",
       "      <td>4.509271</td>\n",
       "      <td>0.906832</td>\n",
       "      <td>0.906394</td>\n",
       "      <td>0.906832</td>\n",
       "      <td>0.907916</td>\n",
       "      <td>0.130636</td>\n",
       "    </tr>\n",
       "    <tr>\n",
       "      <th>Naive Bayes</th>\n",
       "      <td>0.002768</td>\n",
       "      <td>0.838891</td>\n",
       "      <td>0.836077</td>\n",
       "      <td>0.838891</td>\n",
       "      <td>0.852196</td>\n",
       "      <td>0.219058</td>\n",
       "    </tr>\n",
       "    <tr>\n",
       "      <th>KNN</th>\n",
       "      <td>0.142188</td>\n",
       "      <td>0.834145</td>\n",
       "      <td>0.833733</td>\n",
       "      <td>0.834145</td>\n",
       "      <td>0.834076</td>\n",
       "      <td>0.227051</td>\n",
       "    </tr>\n",
       "  </tbody>\n",
       "</table>\n",
       "</div>"
      ],
      "text/plain": [
       "                     train_time  train_accuracy  train_f1  train_recall  \\\n",
       "Logistic Regression    0.022093        0.820782  0.819479      0.820782   \n",
       "Random Forest          1.673133        0.910328  0.909970      0.910328   \n",
       "Gradient Boosting      5.123101        0.908830  0.908558      0.908830   \n",
       "SVM                    4.509271        0.906832  0.906394      0.906832   \n",
       "Naive Bayes            0.002768        0.838891  0.836077      0.838891   \n",
       "KNN                    0.142188        0.834145  0.833733      0.834145   \n",
       "\n",
       "                     train_precision  mean_absolute_error  \n",
       "Logistic Regression         0.822680             0.235419  \n",
       "Random Forest               0.911077             0.127014  \n",
       "Gradient Boosting           0.909061             0.129637  \n",
       "SVM                         0.907916             0.130636  \n",
       "Naive Bayes                 0.852196             0.219058  \n",
       "KNN                         0.834076             0.227051  "
      ]
     },
     "metadata": {},
     "output_type": "display_data"
    }
   ],
   "source": [
    "results_df = pd.DataFrame(results).T\n",
    "display(results_df)"
   ]
  },
  {
   "cell_type": "code",
   "execution_count": 44,
   "metadata": {},
   "outputs": [
    {
     "data": {
      "text/html": [
       "<iframe\n",
       "    scrolling=\"no\"\n",
       "    width=\"100%\"\n",
       "    height=\"545px\"\n",
       "    src=\"iframe_figures/figure_44.html\"\n",
       "    frameborder=\"0\"\n",
       "    allowfullscreen\n",
       "></iframe>\n"
      ]
     },
     "metadata": {},
     "output_type": "display_data"
    }
   ],
   "source": [
    "fig = px.bar(\n",
    "    results_df,\n",
    "    x=results_df.columns.drop('train_time'),\n",
    "    y=results_df.index,\n",
    "    title=\"Model Training Metrics\",\n",
    "    barmode='group',\n",
    ")\n",
    "\n",
    "fig.show()"
   ]
  },
  {
   "cell_type": "code",
   "execution_count": 45,
   "metadata": {},
   "outputs": [
    {
     "data": {
      "text/html": [
       "<iframe\n",
       "    scrolling=\"no\"\n",
       "    width=\"100%\"\n",
       "    height=\"545px\"\n",
       "    src=\"iframe_figures/figure_45.html\"\n",
       "    frameborder=\"0\"\n",
       "    allowfullscreen\n",
       "></iframe>\n"
      ]
     },
     "metadata": {},
     "output_type": "display_data"
    }
   ],
   "source": [
    "fig = px.bar(\n",
    "    x=results_df.index,\n",
    "    y=results_df['train_time'],\n",
    "    title='Training Time',\n",
    "    color=results_df.index,\n",
    ")\n",
    "\n",
    "for i in range(len(results_df)):\n",
    "    fig.add_annotation(\n",
    "        x=results_df.index[i],\n",
    "        y=results_df.iloc[i]['train_time'],\n",
    "        text=f\"{results_df.iloc[i]['train_time']:.2f} s\",\n",
    "        yshift=10,\n",
    "        showarrow=False\n",
    "    )\n",
    "\n",
    "fig.update_layout(yaxis_title='Time (s)', xaxis_title='Model')\n",
    "\n",
    "fig.show()"
   ]
  },
  {
   "cell_type": "code",
   "execution_count": 46,
   "metadata": {},
   "outputs": [
    {
     "data": {
      "text/html": [
       "<iframe\n",
       "    scrolling=\"no\"\n",
       "    width=\"100%\"\n",
       "    height=\"545px\"\n",
       "    src=\"iframe_figures/figure_46.html\"\n",
       "    frameborder=\"0\"\n",
       "    allowfullscreen\n",
       "></iframe>\n"
      ]
     },
     "metadata": {},
     "output_type": "display_data"
    }
   ],
   "source": [
    "fig = make_subplots(rows=2, cols=3, subplot_titles=results_df.index)\n",
    "\n",
    "for i, model_name in enumerate(confusion_matrices):\n",
    "    fig.add_trace(\n",
    "        go.Heatmap(\n",
    "            z=confusion_matrices[model_name],\n",
    "            x=['Low', 'Medium', 'High'],\n",
    "            y=['Low', 'Medium', 'High'],\n",
    "            showscale=True,\n",
    "            autocolorscale=True,\n",
    "        ),\n",
    "        row=(i // 3) + 1,\n",
    "        col=(i % 3) + 1,\n",
    "    )\n",
    "\n",
    "fig.update_xaxes(title_text=\"Predicted\", row=2, col=2)\n",
    "fig.update_yaxes(title_text=\"Actual\", row=1, col=1)\n",
    "fig.update_yaxes(title_text=\"Actual\", row=2, col=1)\n",
    "\n",
    "fig.update_layout(title=\"Confusion Matrix for Models\")\n",
    "\n",
    "fig.show()"
   ]
  },
  {
   "cell_type": "markdown",
   "metadata": {},
   "source": [
    "### Random Forest\n",
    "- Strong overall performance with excellent accuracy in all classes\n",
    "- The strongest model for the Medium class (1820 correct)\n",
    "- Very few severe misclassifications (only 76 High predicted as Low)\n",
    "\n",
    "### Gradient Boosting\n",
    "- Slightly better than Random Forest for the Low class (1824 correct)\n",
    "- Excellent Medium class performance (1803 correct)\n",
    "- Balanced error distribution with minimal severe errors\n",
    "\n",
    "### SVM\n",
    "- Excellent High class performance (3687 correct)\n",
    "- Very strong balance across all classes\n",
    "- Similar pattern to Random Forest but slightly lower Medium accuracy\n",
    "\n",
    "### KNN\n",
    "- Reasonable but weaker performance than the top models\n",
    "- Struggles more with the Medium class (1586 correct)\n",
    "- More classification errors, especially between Medium and High classes\n",
    "\n",
    "### Logistic Regression\n",
    "- Weakest Medium class performance (1442 correct)\n",
    "- Significant confusion between Medium and High classes\n",
    "- Simple model that still performs reasonably on Low class\n",
    "\n",
    "### Naive Bayes\n",
    "- Strong High class performance (3693 correct, best among all models)\n",
    "- Weakest for the Medium class (1408 correct)\n",
    "- Most imbalanced model that favors the High class predictions\n",
    "\n",
    "Overall, Random Forest and Gradient Boosting deliver the most balanced and accurate predictions across all three engagement levels, with SVM following closely behind."
   ]
  },
  {
   "cell_type": "markdown",
   "metadata": {},
   "source": [
    "### Hyperparameter Tuning"
   ]
  },
  {
   "cell_type": "markdown",
   "metadata": {},
   "source": [
    "**Hyperparameter Tuning for RandomForestClassifier**\n",
    "\n",
    "We will use RandomizedSearchCV to find the best hyperparameters for the RandomForestClassifier. This will help us improve the model's performance by exploring different combinations of hyperparameters."
   ]
  },
  {
   "cell_type": "markdown",
   "metadata": {},
   "source": [
    "Here we are choosing to fine tune the `n_estimators`, `max_depth`, `min_samples_split`, `min_samples_leaf`."
   ]
  },
  {
   "cell_type": "code",
   "execution_count": 47,
   "metadata": {},
   "outputs": [],
   "source": [
    "from sklearn.model_selection import RandomizedSearchCV\n",
    "import numpy as np\n",
    "\n",
    "start_time = time.time()\n",
    "param_grid = {\n",
    "    \"n_estimators\": [100, 200, 300],\n",
    "    \"max_depth\": [None, 20, 30],\n",
    "    \"min_samples_split\": [2, 5, 10],\n",
    "    \"min_samples_leaf\": [1, 2, 4],\n",
    "}\n",
    "\n",
    "X_combined = np.vstack((X_train, X_val))\n",
    "y_combined = np.hstack((y_train, y_val))\n",
    "\n",
    "random_forest = RandomForestClassifier(random_state=42)\n",
    "random_forest_tuned = RandomizedSearchCV(\n",
    "    random_forest,\n",
    "    param_grid,\n",
    "    n_iter=20,\n",
    "    cv=5,\n",
    "    random_state=42,\n",
    "    n_jobs=-1,\n",
    ")\n",
    "random_forest_tuned.fit(X_combined, y_combined)\n",
    "\n",
    "y_pred_tuned = random_forest_tuned.predict(X_test)\n",
    "tuning_time = time.time() - start_time"
   ]
  },
  {
   "cell_type": "code",
   "execution_count": 48,
   "metadata": {},
   "outputs": [
    {
     "name": "stdout",
     "output_type": "stream",
     "text": [
      "Best Parameters: {'n_estimators': 200, 'min_samples_split': 5, 'min_samples_leaf': 1, 'max_depth': 20}\n",
      "Best Score: 0.9138226774615816\n",
      "Tuning Time: 41.39 seconds\n"
     ]
    }
   ],
   "source": [
    "best_params = random_forest_tuned.best_params_\n",
    "best_score = random_forest_tuned.best_score_\n",
    "print(f\"Best Parameters: {best_params}\")\n",
    "print(f\"Best Score: {best_score}\")\n",
    "print(f\"Tuning Time: {tuning_time:.2f} seconds\")"
   ]
  },
  {
   "cell_type": "markdown",
   "metadata": {},
   "source": [
    "Now we will re-evaluate the original model with the combined training data as well as the unseen test data"
   ]
  },
  {
   "cell_type": "code",
   "execution_count": 49,
   "metadata": {},
   "outputs": [
    {
     "name": "stdout",
     "output_type": "stream",
     "text": [
      "Re-evaluation of the original model time taken: 1.61 seconds\n"
     ]
    }
   ],
   "source": [
    "start_time = time.time()\n",
    "random_forest = models['Random Forest']\n",
    "random_forest.fit(X_train, y_train)\n",
    "y_pred_original = random_forest.predict(X_test)\n",
    "end_time = time.time() - start_time\n",
    "\n",
    "print(f\"Re-evaluation of the original model time taken: {end_time:.2f} seconds\")"
   ]
  },
  {
   "cell_type": "code",
   "execution_count": 50,
   "metadata": {},
   "outputs": [],
   "source": [
    "metrics = {\n",
    "    'Original Random Forest': {\n",
    "        'train_accuracy': accuracy_score(y_test, y_pred_original),\n",
    "        'train_f1': f1_score(y_test, y_pred_original, average='weighted'),\n",
    "        'train_recall': recall_score(y_test, y_pred_original, average='weighted'),\n",
    "        'train_precision': precision_score(y_test, y_pred_original, average='weighted')\n",
    "    },\n",
    "    'Tuned Random Forest': {\n",
    "        'train_accuracy': accuracy_score(y_test, y_pred_tuned),\n",
    "        'train_f1': f1_score(y_test, y_pred_tuned, average='weighted'),\n",
    "        'train_precision': precision_score(y_test, y_pred_tuned, average='weighted'),\n",
    "        'train_recall': recall_score(y_test, y_pred_tuned, average='weighted')\n",
    "    }\n",
    "}"
   ]
  },
  {
   "cell_type": "code",
   "execution_count": 51,
   "metadata": {},
   "outputs": [
    {
     "data": {
      "text/html": [
       "<div>\n",
       "<style scoped>\n",
       "    .dataframe tbody tr th:only-of-type {\n",
       "        vertical-align: middle;\n",
       "    }\n",
       "\n",
       "    .dataframe tbody tr th {\n",
       "        vertical-align: top;\n",
       "    }\n",
       "\n",
       "    .dataframe thead th {\n",
       "        text-align: right;\n",
       "    }\n",
       "</style>\n",
       "<table border=\"1\" class=\"dataframe\">\n",
       "  <thead>\n",
       "    <tr style=\"text-align: right;\">\n",
       "      <th></th>\n",
       "      <th>train_accuracy</th>\n",
       "      <th>train_f1</th>\n",
       "      <th>train_recall</th>\n",
       "      <th>train_precision</th>\n",
       "    </tr>\n",
       "  </thead>\n",
       "  <tbody>\n",
       "    <tr>\n",
       "      <th>Original Random Forest</th>\n",
       "      <td>0.908955</td>\n",
       "      <td>0.908614</td>\n",
       "      <td>0.908955</td>\n",
       "      <td>0.909167</td>\n",
       "    </tr>\n",
       "    <tr>\n",
       "      <th>Tuned Random Forest</th>\n",
       "      <td>0.910703</td>\n",
       "      <td>0.910341</td>\n",
       "      <td>0.910703</td>\n",
       "      <td>0.910956</td>\n",
       "    </tr>\n",
       "  </tbody>\n",
       "</table>\n",
       "</div>"
      ],
      "text/plain": [
       "                        train_accuracy  train_f1  train_recall  \\\n",
       "Original Random Forest        0.908955  0.908614      0.908955   \n",
       "Tuned Random Forest           0.910703  0.910341      0.910703   \n",
       "\n",
       "                        train_precision  \n",
       "Original Random Forest         0.909167  \n",
       "Tuned Random Forest            0.910956  "
      ]
     },
     "metadata": {},
     "output_type": "display_data"
    }
   ],
   "source": [
    "comparison_df = pd.DataFrame(metrics).T\n",
    "display(comparison_df)"
   ]
  },
  {
   "cell_type": "code",
   "execution_count": 52,
   "metadata": {},
   "outputs": [
    {
     "data": {
      "text/html": [
       "<iframe\n",
       "    scrolling=\"no\"\n",
       "    width=\"100%\"\n",
       "    height=\"545px\"\n",
       "    src=\"iframe_figures/figure_52.html\"\n",
       "    frameborder=\"0\"\n",
       "    allowfullscreen\n",
       "></iframe>\n"
      ]
     },
     "metadata": {},
     "output_type": "display_data"
    }
   ],
   "source": [
    "model_metrics = pd.DataFrame(comparison_df).reset_index(names='Model')\n",
    "\n",
    "fig = px.bar(\n",
    "    model_metrics,\n",
    "    x='Model',\n",
    "    y=['train_accuracy', 'train_f1', 'train_precision', 'train_recall'],\n",
    "    title='Model Metrics',\n",
    "    barmode='group',\n",
    "    text_auto=True\n",
    ")\n",
    "\n",
    "fig.show()"
   ]
  },
  {
   "cell_type": "markdown",
   "metadata": {},
   "source": [
    "**Observing the improvements of the refined model**"
   ]
  },
  {
   "cell_type": "code",
   "execution_count": 53,
   "metadata": {},
   "outputs": [
    {
     "name": "stdout",
     "output_type": "stream",
     "text": [
      "train_accuracy improvement: 0.19236\n",
      "train_f1 improvement: 0.19011\n",
      "train_recall improvement: 0.19236\n",
      "train_precision improvement: 0.19674\n"
     ]
    }
   ],
   "source": [
    "improvements = []\n",
    "for metric in comparison_df.columns:\n",
    "    improvement = ((comparison_df.iloc[1][metric] - comparison_df.iloc[0][metric]) / comparison_df.iloc[0][metric]) * 100\n",
    "    print(f\"{metric} improvement: {improvement:.5f}\")\n",
    "    improvements.append(improvement)"
   ]
  },
  {
   "cell_type": "code",
   "execution_count": 54,
   "metadata": {},
   "outputs": [
    {
     "data": {
      "text/html": [
       "<iframe\n",
       "    scrolling=\"no\"\n",
       "    width=\"100%\"\n",
       "    height=\"545px\"\n",
       "    src=\"iframe_figures/figure_54.html\"\n",
       "    frameborder=\"0\"\n",
       "    allowfullscreen\n",
       "></iframe>\n"
      ]
     },
     "metadata": {},
     "output_type": "display_data"
    }
   ],
   "source": [
    "improvement = pd.DataFrame({\n",
    "    'Metric': comparison_df.columns,\n",
    "    'Improvement': improvements\n",
    "})\n",
    "\n",
    "fig = px.bar(\n",
    "    improvement,\n",
    "    x='Metric',\n",
    "    y='Improvement',\n",
    "    title=\"Model Improvement\",\n",
    "    color='Metric',\n",
    "    text='Improvement'\n",
    ")\n",
    "\n",
    "fig.update_traces(texttemplate='%{text:.2f}%', textposition='outside')\n",
    "\n",
    "fig.show()"
   ]
  },
  {
   "cell_type": "markdown",
   "metadata": {},
   "source": [
    "**Comparing the confusion matrices of old and new models**"
   ]
  },
  {
   "cell_type": "code",
   "execution_count": 55,
   "metadata": {},
   "outputs": [
    {
     "data": {
      "text/html": [
       "<iframe\n",
       "    scrolling=\"no\"\n",
       "    width=\"100%\"\n",
       "    height=\"545px\"\n",
       "    src=\"iframe_figures/figure_55.html\"\n",
       "    frameborder=\"0\"\n",
       "    allowfullscreen\n",
       "></iframe>\n"
      ]
     },
     "metadata": {},
     "output_type": "display_data"
    }
   ],
   "source": [
    "fig = make_subplots(rows=1, cols=2, subplot_titles=['Original Random Forest', 'Tuned Random Forest'])\n",
    "\n",
    "fig.add_trace(\n",
    "    go.Heatmap(\n",
    "        z=confusion_matrices['Random Forest'],\n",
    "        x=['Low', 'Medium', 'High'],\n",
    "        y=['Low', 'Medium', 'High'],\n",
    "        showscale=True,\n",
    "        autocolorscale=True,\n",
    "    ),\n",
    "    row=1,\n",
    "    col=1,\n",
    ")\n",
    "\n",
    "fig.add_trace(\n",
    "    go.Heatmap(\n",
    "        z=confusion_matrix(y_test, y_pred_tuned),\n",
    "        x=['Low', 'Medium', 'High'],\n",
    "        y=['Low', 'Medium', 'High'],\n",
    "        showscale=True,\n",
    "        autocolorscale=True,\n",
    "    ),\n",
    "    row=1,\n",
    "    col=2,\n",
    ")\n",
    "\n",
    "fig.update_xaxes(title_text=\"Predicted\", row=1, col=1)\n",
    "fig.update_yaxes(title_text=\"Actual\", row=1, col=1)\n",
    "\n",
    "fig.update_layout(title=\"Confusion Matrix for Original and Tuned Random Forest\")\n",
    "\n",
    "fig.show()"
   ]
  },
  {
   "cell_type": "markdown",
   "metadata": {},
   "source": [
    "**Observation**:\n",
    "\n",
    "1. Overall Improvement: The tuned model shows modest improvements:\n",
    "    - More correct Medium predictions (1820 vs 1809)\n",
    "    - More correct High predictions (3675 vs 3666)\n",
    "    - Similar Low prediction performance (1797 vs 1796)\n",
    "\n",
    "2. Error Reduction:\n",
    "    - Medium misclassified as High: Decreased from 195 to 186\n",
    "    - High misclassified as Medium: Decreased from 108 to 101\n",
    "    - Several small improvements across other error types\n",
    "\n",
    "3. Both models struggle most with the Low-High confusion (197/199 errors)\n",
    "4. Medium class is better classified by the tuned model"
   ]
  },
  {
   "cell_type": "markdown",
   "metadata": {},
   "source": [
    "**Seeing the feature importances**"
   ]
  },
  {
   "cell_type": "code",
   "execution_count": 56,
   "metadata": {},
   "outputs": [
    {
     "data": {
      "text/html": [
       "<iframe\n",
       "    scrolling=\"no\"\n",
       "    width=\"100%\"\n",
       "    height=\"545px\"\n",
       "    src=\"iframe_figures/figure_56.html\"\n",
       "    frameborder=\"0\"\n",
       "    allowfullscreen\n",
       "></iframe>\n"
      ]
     },
     "metadata": {},
     "output_type": "display_data"
    }
   ],
   "source": [
    "feature_names = []\n",
    "feature_names.extend(numerical_features)\n",
    "\n",
    "for i, col in enumerate(categorical_features):\n",
    "    categories = preprocessor.named_transformers_[\"one_hot_encoder\"].categories_[i]\n",
    "    for category in categories:\n",
    "        feature_names.append(f\"{col}_{category}\")\n",
    "\n",
    "feature_importance = pd.DataFrame(\n",
    "    {\n",
    "        \"Feature\": feature_names,\n",
    "        \"Importance\": random_forest_tuned.best_estimator_.feature_importances_,\n",
    "    }\n",
    ")\n",
    "\n",
    "feature_importance = feature_importance.sort_values(\"Importance\", ascending=False)\n",
    "feature_importance[\"ImportancePercent\"] = feature_importance[\"Importance\"] * 100\n",
    "\n",
    "fig = px.bar(\n",
    "    feature_importance,\n",
    "    x=\"Importance\",\n",
    "    y=\"Feature\",\n",
    "    title=\"Feature Importance\",\n",
    "    color=\"Feature\",\n",
    "    text=\"ImportancePercent\",\n",
    ")\n",
    "\n",
    "fig.update_traces(\n",
    "    texttemplate=\"%{text:.2f}%\",\n",
    "    textposition=\"outside\",\n",
    ")\n",
    "\n",
    "fig.show()"
   ]
  },
  {
   "cell_type": "markdown",
   "metadata": {},
   "source": [
    "**Observation**:\n",
    "- The most important feature is SessionsPerWeek that means how often a player plays the game determines the engagementlevel\n",
    "- AvgSessionDuration is close up which means how long they are playing the game\n",
    "- Moderatley affecting are PlayTimeHours, PlayerLevel, AchievementsUnlocked\n",
    "- Low importance are the Age and InGamePurchases values"
   ]
  },
  {
   "cell_type": "markdown",
   "metadata": {},
   "source": [
    "# Conclusion\n",
    "\n",
    "## Project Summary and Findings\n",
    "\n",
    "This project analyzed player engagement in online gaming through machine learning classification techniques. Using a dataset of 40,000+ players, we identified key factors that predict engagement levels (Low, Medium, High) and built a robust classification model.\n",
    "\n",
    "Our Random Forest classifier achieved 91% accuracy after hyperparameter tuning, successfully distinguishing between engagement levels based primarily on behavioral metrics. The model demonstrated balanced performance across all three engagement categories, with slightly higher accuracy for the Low and High classes.\n",
    "\n",
    "## Key Insights\n",
    "\n",
    "1. **Behavioral metrics outweigh demographics**: Time-based metrics (SessionsPerWeek and AvgSessionDurationMinutes) accounted for over 78% of predictive power, while demographic factors like age had limited influence (3.87%).\n",
    "2. **Frequency over duration**: How often players engage with the game (SessionsPerWeek at 48%) is more important than how long they play each session (AvgSessionDurationMinutes at 31%).\n",
    "3. **Progress systems matter moderately**: PlayerLevel (5.33%) and AchievementsUnlocked (4.92%) showed moderate importance, indicating achievement systems contribute to engagement but aren't primary drivers.\n",
    "4. **Purchasing behavior has minimal impact**: In-game purchases showed surprisingly little correlation with engagement levels (<1% importance), challenging conventional monetization-focused strategies.\n",
    "\n",
    "## Model Performance\n",
    "\n",
    "Our tuned Random Forest classifier demonstrated excellent performance:\n",
    "- 91% overall accuracy\n",
    "- 91% weighted F1 score\n",
    "- Balanced precision and recall across engagement levels\n",
    "- Significant improvement over baseline models (Logistic Regression: 82%, KNN: 84%)\n",
    "\n",
    "The hyperparameter tuning process yielded a model with optimal depth and complexity that avoided overfitting while capturing the nuanced patterns in player behavior.\n",
    "\n",
    "## Business Recommendations\n",
    "\n",
    "Based on our analysis, we recommend:\n",
    "\n",
    "1. **Design for frequent engagement**: Implement daily quests, rewards for consecutive logins, and time-limited events to increase session frequency.\n",
    "2. **Optimize session duration**: Structure game content for meaningful 90-95 minute sessions that align with the high-engagement player pattern.\n",
    "3. **Enhance progression systems**: Improve the impact of achievements and player levels by making them more meaningful to core gameplay.\n",
    "4. **Rethink monetization strategy**: Focus on engagement-first design rather than purchase-driven features, as purchasing behavior showed minimal correlation with engagement.\n",
    "5. **Targeted feature development**: Use the engagement model to test and refine new features based on their predicted impact on player engagement.\n",
    "\n",
    "This engagement classification model provides a solid foundation for data-driven game design decisions that prioritize player experience and long-term engagement over short-term monetization tactics."
   ]
  }
 ],
 "metadata": {
  "kernelspec": {
   "display_name": "venv",
   "language": "python",
   "name": "python3"
  },
  "language_info": {
   "codemirror_mode": {
    "name": "ipython",
    "version": 3
   },
   "file_extension": ".py",
   "mimetype": "text/x-python",
   "name": "python",
   "nbconvert_exporter": "python",
   "pygments_lexer": "ipython3",
   "version": "3.13.1"
  }
 },
 "nbformat": 4,
 "nbformat_minor": 2
}
